{
  "cells": [
    {
      "cell_type": "code",
      "execution_count": 1,
      "metadata": {
        "id": "oDEriQm4K5a9"
      },
      "outputs": [],
      "source": [
        "import pandas as pd\n",
        "import numpy as np\n",
        "\n",
        "import seaborn as sns\n",
        "import matplotlib.pyplot as plt\n"
      ]
    },
    {
      "cell_type": "code",
      "execution_count": 2,
      "metadata": {
        "id": "IMe70B3RX9NF"
      },
      "outputs": [],
      "source": [
        "# Load data from source\n",
        "PATH = 'https://raw.githubusercontent.com/nhanphan0411/cs-dataset/main/OnlineRetail.csv'\n",
        "tx_data = pd.read_csv(PATH,encoding = \"ISO-8859-1\")"
      ]
    },
    {
      "cell_type": "code",
      "execution_count": 3,
      "metadata": {
        "colab": {
          "base_uri": "https://localhost:8080/",
          "height": 331
        },
        "id": "gwS4_NIAK5a-",
        "outputId": "3138501d-2ee1-42e6-da6c-dd95badc5286"
      },
      "outputs": [
        {
          "data": {
            "text/html": [
              "<div>\n",
              "<style scoped>\n",
              "    .dataframe tbody tr th:only-of-type {\n",
              "        vertical-align: middle;\n",
              "    }\n",
              "\n",
              "    .dataframe tbody tr th {\n",
              "        vertical-align: top;\n",
              "    }\n",
              "\n",
              "    .dataframe thead th {\n",
              "        text-align: right;\n",
              "    }\n",
              "</style>\n",
              "<table border=\"1\" class=\"dataframe\">\n",
              "  <thead>\n",
              "    <tr style=\"text-align: right;\">\n",
              "      <th></th>\n",
              "      <th>InvoiceNo</th>\n",
              "      <th>StockCode</th>\n",
              "      <th>Description</th>\n",
              "      <th>Quantity</th>\n",
              "      <th>InvoiceDate</th>\n",
              "      <th>UnitPrice</th>\n",
              "      <th>CustomerID</th>\n",
              "      <th>Country</th>\n",
              "    </tr>\n",
              "  </thead>\n",
              "  <tbody>\n",
              "    <tr>\n",
              "      <th>0</th>\n",
              "      <td>536365</td>\n",
              "      <td>85123A</td>\n",
              "      <td>WHITE HANGING HEART T-LIGHT HOLDER</td>\n",
              "      <td>6</td>\n",
              "      <td>12/1/2010 8:26</td>\n",
              "      <td>2.55</td>\n",
              "      <td>17850.0</td>\n",
              "      <td>United Kingdom</td>\n",
              "    </tr>\n",
              "    <tr>\n",
              "      <th>1</th>\n",
              "      <td>536365</td>\n",
              "      <td>71053</td>\n",
              "      <td>WHITE METAL LANTERN</td>\n",
              "      <td>6</td>\n",
              "      <td>12/1/2010 8:26</td>\n",
              "      <td>3.39</td>\n",
              "      <td>17850.0</td>\n",
              "      <td>United Kingdom</td>\n",
              "    </tr>\n",
              "    <tr>\n",
              "      <th>2</th>\n",
              "      <td>536365</td>\n",
              "      <td>84406B</td>\n",
              "      <td>CREAM CUPID HEARTS COAT HANGER</td>\n",
              "      <td>8</td>\n",
              "      <td>12/1/2010 8:26</td>\n",
              "      <td>2.75</td>\n",
              "      <td>17850.0</td>\n",
              "      <td>United Kingdom</td>\n",
              "    </tr>\n",
              "    <tr>\n",
              "      <th>3</th>\n",
              "      <td>536365</td>\n",
              "      <td>84029G</td>\n",
              "      <td>KNITTED UNION FLAG HOT WATER BOTTLE</td>\n",
              "      <td>6</td>\n",
              "      <td>12/1/2010 8:26</td>\n",
              "      <td>3.39</td>\n",
              "      <td>17850.0</td>\n",
              "      <td>United Kingdom</td>\n",
              "    </tr>\n",
              "    <tr>\n",
              "      <th>4</th>\n",
              "      <td>536365</td>\n",
              "      <td>84029E</td>\n",
              "      <td>RED WOOLLY HOTTIE WHITE HEART.</td>\n",
              "      <td>6</td>\n",
              "      <td>12/1/2010 8:26</td>\n",
              "      <td>3.39</td>\n",
              "      <td>17850.0</td>\n",
              "      <td>United Kingdom</td>\n",
              "    </tr>\n",
              "    <tr>\n",
              "      <th>5</th>\n",
              "      <td>536365</td>\n",
              "      <td>22752</td>\n",
              "      <td>SET 7 BABUSHKA NESTING BOXES</td>\n",
              "      <td>2</td>\n",
              "      <td>12/1/2010 8:26</td>\n",
              "      <td>7.65</td>\n",
              "      <td>17850.0</td>\n",
              "      <td>United Kingdom</td>\n",
              "    </tr>\n",
              "    <tr>\n",
              "      <th>6</th>\n",
              "      <td>536365</td>\n",
              "      <td>21730</td>\n",
              "      <td>GLASS STAR FROSTED T-LIGHT HOLDER</td>\n",
              "      <td>6</td>\n",
              "      <td>12/1/2010 8:26</td>\n",
              "      <td>4.25</td>\n",
              "      <td>17850.0</td>\n",
              "      <td>United Kingdom</td>\n",
              "    </tr>\n",
              "    <tr>\n",
              "      <th>7</th>\n",
              "      <td>536366</td>\n",
              "      <td>22633</td>\n",
              "      <td>HAND WARMER UNION JACK</td>\n",
              "      <td>6</td>\n",
              "      <td>12/1/2010 8:28</td>\n",
              "      <td>1.85</td>\n",
              "      <td>17850.0</td>\n",
              "      <td>United Kingdom</td>\n",
              "    </tr>\n",
              "    <tr>\n",
              "      <th>8</th>\n",
              "      <td>536366</td>\n",
              "      <td>22632</td>\n",
              "      <td>HAND WARMER RED POLKA DOT</td>\n",
              "      <td>6</td>\n",
              "      <td>12/1/2010 8:28</td>\n",
              "      <td>1.85</td>\n",
              "      <td>17850.0</td>\n",
              "      <td>United Kingdom</td>\n",
              "    </tr>\n",
              "    <tr>\n",
              "      <th>9</th>\n",
              "      <td>536367</td>\n",
              "      <td>84879</td>\n",
              "      <td>ASSORTED COLOUR BIRD ORNAMENT</td>\n",
              "      <td>32</td>\n",
              "      <td>12/1/2010 8:34</td>\n",
              "      <td>1.69</td>\n",
              "      <td>13047.0</td>\n",
              "      <td>United Kingdom</td>\n",
              "    </tr>\n",
              "  </tbody>\n",
              "</table>\n",
              "</div>"
            ],
            "text/plain": [
              "  InvoiceNo StockCode                          Description  Quantity  \\\n",
              "0    536365    85123A   WHITE HANGING HEART T-LIGHT HOLDER         6   \n",
              "1    536365     71053                  WHITE METAL LANTERN         6   \n",
              "2    536365    84406B       CREAM CUPID HEARTS COAT HANGER         8   \n",
              "3    536365    84029G  KNITTED UNION FLAG HOT WATER BOTTLE         6   \n",
              "4    536365    84029E       RED WOOLLY HOTTIE WHITE HEART.         6   \n",
              "5    536365     22752         SET 7 BABUSHKA NESTING BOXES         2   \n",
              "6    536365     21730    GLASS STAR FROSTED T-LIGHT HOLDER         6   \n",
              "7    536366     22633               HAND WARMER UNION JACK         6   \n",
              "8    536366     22632            HAND WARMER RED POLKA DOT         6   \n",
              "9    536367     84879        ASSORTED COLOUR BIRD ORNAMENT        32   \n",
              "\n",
              "      InvoiceDate  UnitPrice  CustomerID         Country  \n",
              "0  12/1/2010 8:26       2.55     17850.0  United Kingdom  \n",
              "1  12/1/2010 8:26       3.39     17850.0  United Kingdom  \n",
              "2  12/1/2010 8:26       2.75     17850.0  United Kingdom  \n",
              "3  12/1/2010 8:26       3.39     17850.0  United Kingdom  \n",
              "4  12/1/2010 8:26       3.39     17850.0  United Kingdom  \n",
              "5  12/1/2010 8:26       7.65     17850.0  United Kingdom  \n",
              "6  12/1/2010 8:26       4.25     17850.0  United Kingdom  \n",
              "7  12/1/2010 8:28       1.85     17850.0  United Kingdom  \n",
              "8  12/1/2010 8:28       1.85     17850.0  United Kingdom  \n",
              "9  12/1/2010 8:34       1.69     13047.0  United Kingdom  "
            ]
          },
          "execution_count": 3,
          "metadata": {},
          "output_type": "execute_result"
        }
      ],
      "source": [
        "# Preview the data\n",
        "tx_data.head(10)"
      ]
    },
    {
      "cell_type": "code",
      "execution_count": 4,
      "metadata": {
        "id": "k7yYTEWiK5bA"
      },
      "outputs": [
        {
          "data": {
            "text/plain": [
              "(541909, 8)"
            ]
          },
          "execution_count": 4,
          "metadata": {},
          "output_type": "execute_result"
        }
      ],
      "source": [
        "# How many rows and columns do we have in the data?\n",
        "tx_data.shape"
      ]
    },
    {
      "cell_type": "code",
      "execution_count": 5,
      "metadata": {
        "id": "uk27BIPKK5bB"
      },
      "outputs": [
        {
          "name": "stdout",
          "output_type": "stream",
          "text": [
            "<class 'pandas.core.frame.DataFrame'>\n",
            "RangeIndex: 541909 entries, 0 to 541908\n",
            "Data columns (total 8 columns):\n",
            " #   Column       Non-Null Count   Dtype  \n",
            "---  ------       --------------   -----  \n",
            " 0   InvoiceNo    541909 non-null  object \n",
            " 1   StockCode    541909 non-null  object \n",
            " 2   Description  540455 non-null  object \n",
            " 3   Quantity     541909 non-null  int64  \n",
            " 4   InvoiceDate  541909 non-null  object \n",
            " 5   UnitPrice    541909 non-null  float64\n",
            " 6   CustomerID   406829 non-null  float64\n",
            " 7   Country      541909 non-null  object \n",
            "dtypes: float64(2), int64(1), object(5)\n",
            "memory usage: 33.1+ MB\n"
          ]
        }
      ],
      "source": [
        "# Get dataset information\n",
        "tx_data.info()"
      ]
    },
    {
      "cell_type": "code",
      "execution_count": 6,
      "metadata": {
        "id": "ARqVvBDqniZ8"
      },
      "outputs": [
        {
          "data": {
            "text/plain": [
              "5268"
            ]
          },
          "execution_count": 6,
          "metadata": {},
          "output_type": "execute_result"
        }
      ],
      "source": [
        "# Check and drop duplicated (if any)\n",
        "tx_data.duplicated().sum()"
      ]
    },
    {
      "cell_type": "code",
      "execution_count": 7,
      "metadata": {
        "id": "smwAGC9qWvTj"
      },
      "outputs": [
        {
          "data": {
            "text/plain": [
              "InvoiceNo           0\n",
              "StockCode           0\n",
              "Description      1454\n",
              "Quantity            0\n",
              "InvoiceDate         0\n",
              "UnitPrice           0\n",
              "CustomerID     135080\n",
              "Country             0\n",
              "dtype: int64"
            ]
          },
          "execution_count": 7,
          "metadata": {},
          "output_type": "execute_result"
        }
      ],
      "source": [
        "# Check for NaN values\n",
        "tx_data.isna().sum()"
      ]
    },
    {
      "cell_type": "code",
      "execution_count": 8,
      "metadata": {
        "id": "HAt2xvJfBeK3"
      },
      "outputs": [
        {
          "data": {
            "text/plain": [
              "InvoiceNo      0.000000\n",
              "StockCode      0.000000\n",
              "Description    0.002683\n",
              "Quantity       0.000000\n",
              "InvoiceDate    0.000000\n",
              "UnitPrice      0.000000\n",
              "CustomerID     0.249267\n",
              "Country        0.000000\n",
              "dtype: float64"
            ]
          },
          "execution_count": 8,
          "metadata": {},
          "output_type": "execute_result"
        }
      ],
      "source": [
        "# What is the percentage of the number of NaN values compared to the whole data?\n",
        "tx_data.isna().sum() / tx_data.shape[0]"
      ]
    },
    {
      "cell_type": "markdown",
      "metadata": {
        "id": "dy-8t0d7BupM"
      },
      "source": [
        "We'll leave the NaN values as they are for now, and will take action toward to it when we need to use it."
      ]
    },
    {
      "cell_type": "code",
      "execution_count": 9,
      "metadata": {
        "id": "s7viBzuBK5bC"
      },
      "outputs": [],
      "source": [
        "# Adjust column InvoiceDate to datetime datatype\n",
        "tx_data['InvoiceDate'] = pd.to_datetime(tx_data[\"InvoiceDate\"])"
      ]
    },
    {
      "cell_type": "code",
      "execution_count": 10,
      "metadata": {
        "id": "wkDkjE0LCCEB"
      },
      "outputs": [],
      "source": [
        "# Extract year-month for further analysis\n",
        "tx_data['InvoiceYearMonth'] = tx_data[\"InvoiceDate\"].dt.to_period(\"M\")"
      ]
    },
    {
      "cell_type": "code",
      "execution_count": 11,
      "metadata": {
        "colab": {
          "base_uri": "https://localhost:8080/",
          "height": 189
        },
        "id": "3kbzUPP1K5bD",
        "outputId": "191e4b32-0bcb-4afc-b75e-da0a5f181526"
      },
      "outputs": [
        {
          "data": {
            "text/html": [
              "<div>\n",
              "<style scoped>\n",
              "    .dataframe tbody tr th:only-of-type {\n",
              "        vertical-align: middle;\n",
              "    }\n",
              "\n",
              "    .dataframe tbody tr th {\n",
              "        vertical-align: top;\n",
              "    }\n",
              "\n",
              "    .dataframe thead th {\n",
              "        text-align: right;\n",
              "    }\n",
              "</style>\n",
              "<table border=\"1\" class=\"dataframe\">\n",
              "  <thead>\n",
              "    <tr style=\"text-align: right;\">\n",
              "      <th></th>\n",
              "      <th>InvoiceNo</th>\n",
              "      <th>StockCode</th>\n",
              "      <th>Description</th>\n",
              "      <th>Quantity</th>\n",
              "      <th>InvoiceDate</th>\n",
              "      <th>UnitPrice</th>\n",
              "      <th>CustomerID</th>\n",
              "      <th>Country</th>\n",
              "      <th>InvoiceYearMonth</th>\n",
              "    </tr>\n",
              "  </thead>\n",
              "  <tbody>\n",
              "    <tr>\n",
              "      <th>0</th>\n",
              "      <td>536365</td>\n",
              "      <td>85123A</td>\n",
              "      <td>WHITE HANGING HEART T-LIGHT HOLDER</td>\n",
              "      <td>6</td>\n",
              "      <td>2010-12-01 08:26:00</td>\n",
              "      <td>2.55</td>\n",
              "      <td>17850.0</td>\n",
              "      <td>United Kingdom</td>\n",
              "      <td>2010-12</td>\n",
              "    </tr>\n",
              "    <tr>\n",
              "      <th>1</th>\n",
              "      <td>536365</td>\n",
              "      <td>71053</td>\n",
              "      <td>WHITE METAL LANTERN</td>\n",
              "      <td>6</td>\n",
              "      <td>2010-12-01 08:26:00</td>\n",
              "      <td>3.39</td>\n",
              "      <td>17850.0</td>\n",
              "      <td>United Kingdom</td>\n",
              "      <td>2010-12</td>\n",
              "    </tr>\n",
              "    <tr>\n",
              "      <th>2</th>\n",
              "      <td>536365</td>\n",
              "      <td>84406B</td>\n",
              "      <td>CREAM CUPID HEARTS COAT HANGER</td>\n",
              "      <td>8</td>\n",
              "      <td>2010-12-01 08:26:00</td>\n",
              "      <td>2.75</td>\n",
              "      <td>17850.0</td>\n",
              "      <td>United Kingdom</td>\n",
              "      <td>2010-12</td>\n",
              "    </tr>\n",
              "    <tr>\n",
              "      <th>3</th>\n",
              "      <td>536365</td>\n",
              "      <td>84029G</td>\n",
              "      <td>KNITTED UNION FLAG HOT WATER BOTTLE</td>\n",
              "      <td>6</td>\n",
              "      <td>2010-12-01 08:26:00</td>\n",
              "      <td>3.39</td>\n",
              "      <td>17850.0</td>\n",
              "      <td>United Kingdom</td>\n",
              "      <td>2010-12</td>\n",
              "    </tr>\n",
              "    <tr>\n",
              "      <th>4</th>\n",
              "      <td>536365</td>\n",
              "      <td>84029E</td>\n",
              "      <td>RED WOOLLY HOTTIE WHITE HEART.</td>\n",
              "      <td>6</td>\n",
              "      <td>2010-12-01 08:26:00</td>\n",
              "      <td>3.39</td>\n",
              "      <td>17850.0</td>\n",
              "      <td>United Kingdom</td>\n",
              "      <td>2010-12</td>\n",
              "    </tr>\n",
              "  </tbody>\n",
              "</table>\n",
              "</div>"
            ],
            "text/plain": [
              "  InvoiceNo StockCode                          Description  Quantity  \\\n",
              "0    536365    85123A   WHITE HANGING HEART T-LIGHT HOLDER         6   \n",
              "1    536365     71053                  WHITE METAL LANTERN         6   \n",
              "2    536365    84406B       CREAM CUPID HEARTS COAT HANGER         8   \n",
              "3    536365    84029G  KNITTED UNION FLAG HOT WATER BOTTLE         6   \n",
              "4    536365    84029E       RED WOOLLY HOTTIE WHITE HEART.         6   \n",
              "\n",
              "          InvoiceDate  UnitPrice  CustomerID         Country InvoiceYearMonth  \n",
              "0 2010-12-01 08:26:00       2.55     17850.0  United Kingdom          2010-12  \n",
              "1 2010-12-01 08:26:00       3.39     17850.0  United Kingdom          2010-12  \n",
              "2 2010-12-01 08:26:00       2.75     17850.0  United Kingdom          2010-12  \n",
              "3 2010-12-01 08:26:00       3.39     17850.0  United Kingdom          2010-12  \n",
              "4 2010-12-01 08:26:00       3.39     17850.0  United Kingdom          2010-12  "
            ]
          },
          "execution_count": 11,
          "metadata": {},
          "output_type": "execute_result"
        }
      ],
      "source": [
        "# Your result should look like this\n",
        "tx_data.head()"
      ]
    },
    {
      "cell_type": "code",
      "execution_count": 12,
      "metadata": {
        "id": "rg3sVyV9O_AQ"
      },
      "outputs": [
        {
          "data": {
            "text/plain": [
              "Period('2010-12', 'M')"
            ]
          },
          "execution_count": 12,
          "metadata": {},
          "output_type": "execute_result"
        }
      ],
      "source": [
        "# In what month-year was the FIRST transaction recorded?\n",
        "tx_data[\"InvoiceYearMonth\"].min()"
      ]
    },
    {
      "cell_type": "code",
      "execution_count": 13,
      "metadata": {
        "id": "kPX7EZV_CSKf"
      },
      "outputs": [
        {
          "data": {
            "text/plain": [
              "Period('2011-12', 'M')"
            ]
          },
          "execution_count": 13,
          "metadata": {},
          "output_type": "execute_result"
        }
      ],
      "source": [
        "# In what month-year was the LAST transaction recorded?\n",
        "tx_data[\"InvoiceYearMonth\"].max()"
      ]
    },
    {
      "cell_type": "markdown",
      "metadata": {
        "id": "Jr6cs821PSud"
      },
      "source": [
        "The data in December 2011 is incomplete so we are not using this month's data in this analysis."
      ]
    },
    {
      "cell_type": "code",
      "execution_count": 14,
      "metadata": {
        "id": "2dMb5DYxc0hL"
      },
      "outputs": [],
      "source": [
        "# Filter out 2011-12 data\n",
        "tx_data = tx_data[tx_data[\"InvoiceYearMonth\"]!=\"2011-12\"]"
      ]
    },
    {
      "cell_type": "markdown",
      "metadata": {
        "id": "-sTv9lY3Jp1R"
      },
      "source": [
        "#2. Analyse Revenue"
      ]
    },
    {
      "cell_type": "code",
      "execution_count": 15,
      "metadata": {
        "id": "9gv240oHK5bF"
      },
      "outputs": [],
      "source": [
        "# Compute the Revenue column by UnitPrice * Quantity\n",
        "tx_data['Revenue'] = tx_data[\"UnitPrice\"] * tx_data[\"Quantity\"]"
      ]
    },
    {
      "cell_type": "code",
      "execution_count": 16,
      "metadata": {
        "colab": {
          "base_uri": "https://localhost:8080/",
          "height": 388
        },
        "id": "qjkj_yqyK5bG",
        "outputId": "4887e246-fde1-4cb8-8c05-a806c27a7d5f"
      },
      "outputs": [
        {
          "data": {
            "text/html": [
              "<div>\n",
              "<style scoped>\n",
              "    .dataframe tbody tr th:only-of-type {\n",
              "        vertical-align: middle;\n",
              "    }\n",
              "\n",
              "    .dataframe tbody tr th {\n",
              "        vertical-align: top;\n",
              "    }\n",
              "\n",
              "    .dataframe thead th {\n",
              "        text-align: right;\n",
              "    }\n",
              "</style>\n",
              "<table border=\"1\" class=\"dataframe\">\n",
              "  <thead>\n",
              "    <tr style=\"text-align: right;\">\n",
              "      <th></th>\n",
              "      <th>InvoiceYearMonth</th>\n",
              "      <th>Revenue</th>\n",
              "    </tr>\n",
              "  </thead>\n",
              "  <tbody>\n",
              "    <tr>\n",
              "      <th>0</th>\n",
              "      <td>2010-12</td>\n",
              "      <td>748957.020</td>\n",
              "    </tr>\n",
              "    <tr>\n",
              "      <th>1</th>\n",
              "      <td>2011-01</td>\n",
              "      <td>560000.260</td>\n",
              "    </tr>\n",
              "    <tr>\n",
              "      <th>2</th>\n",
              "      <td>2011-02</td>\n",
              "      <td>498062.650</td>\n",
              "    </tr>\n",
              "    <tr>\n",
              "      <th>3</th>\n",
              "      <td>2011-03</td>\n",
              "      <td>683267.080</td>\n",
              "    </tr>\n",
              "    <tr>\n",
              "      <th>4</th>\n",
              "      <td>2011-04</td>\n",
              "      <td>493207.121</td>\n",
              "    </tr>\n",
              "    <tr>\n",
              "      <th>5</th>\n",
              "      <td>2011-05</td>\n",
              "      <td>723333.510</td>\n",
              "    </tr>\n",
              "    <tr>\n",
              "      <th>6</th>\n",
              "      <td>2011-06</td>\n",
              "      <td>691123.120</td>\n",
              "    </tr>\n",
              "    <tr>\n",
              "      <th>7</th>\n",
              "      <td>2011-07</td>\n",
              "      <td>681300.111</td>\n",
              "    </tr>\n",
              "    <tr>\n",
              "      <th>8</th>\n",
              "      <td>2011-08</td>\n",
              "      <td>682680.510</td>\n",
              "    </tr>\n",
              "    <tr>\n",
              "      <th>9</th>\n",
              "      <td>2011-09</td>\n",
              "      <td>1019687.622</td>\n",
              "    </tr>\n",
              "    <tr>\n",
              "      <th>10</th>\n",
              "      <td>2011-10</td>\n",
              "      <td>1070704.670</td>\n",
              "    </tr>\n",
              "    <tr>\n",
              "      <th>11</th>\n",
              "      <td>2011-11</td>\n",
              "      <td>1461756.250</td>\n",
              "    </tr>\n",
              "  </tbody>\n",
              "</table>\n",
              "</div>"
            ],
            "text/plain": [
              "   InvoiceYearMonth      Revenue\n",
              "0           2010-12   748957.020\n",
              "1           2011-01   560000.260\n",
              "2           2011-02   498062.650\n",
              "3           2011-03   683267.080\n",
              "4           2011-04   493207.121\n",
              "5           2011-05   723333.510\n",
              "6           2011-06   691123.120\n",
              "7           2011-07   681300.111\n",
              "8           2011-08   682680.510\n",
              "9           2011-09  1019687.622\n",
              "10          2011-10  1070704.670\n",
              "11          2011-11  1461756.250"
            ]
          },
          "execution_count": 16,
          "metadata": {},
          "output_type": "execute_result"
        }
      ],
      "source": [
        "# Get Total Revenue of each month\n",
        "tx_revenue = tx_data.groupby(\"InvoiceYearMonth\")[\"Revenue\"].sum().reset_index()\n",
        "tx_revenue"
      ]
    },
    {
      "cell_type": "code",
      "execution_count": 17,
      "metadata": {
        "colab": {
          "base_uri": "https://localhost:8080/",
          "height": 345
        },
        "id": "jOir0CH6K5bG",
        "outputId": "33980c04-caeb-4b0f-d181-327eebebb1e3"
      },
      "outputs": [
        {
          "data": {
            "text/plain": [
              "<Axes: xlabel='InvoiceYearMonth', ylabel='Revenue'>"
            ]
          },
          "execution_count": 17,
          "metadata": {},
          "output_type": "execute_result"
        },
        {
          "data": {
            "image/png": "[encoded data removed]",
            "text/plain": [
              "<Figure size 1500x500 with 1 Axes>"
            ]
          },
          "metadata": {},
          "output_type": "display_data"
        }
      ],
      "source": [
        "# ❗️Tip: If you use Seaborn for plotting, convert Invoice Year Month into string first.\n",
        "tx_revenue['InvoiceYearMonth'] = tx_revenue['InvoiceYearMonth'].astype('string')\n",
        "\n",
        "# Plot the revenue by month\n",
        "plt.figure(figsize=(15,5))\n",
        "sns.lineplot(data=tx_revenue, x=\"InvoiceYearMonth\",y=\"Revenue\")"
      ]
    },
    {
      "cell_type": "markdown",
      "metadata": {
        "id": "cJ5unRnLg_1G"
      },
      "source": [
        "🙋🏻‍♂️ **DISCUSSION: What can you observe from the chart?**"
      ]
    },
    {
      "cell_type": "markdown",
      "metadata": {
        "id": "51qguBFWR0yy"
      },
      "source": [
        "Apart from the absolute metrics, we should also take a look at the relative change of revenue throughout time.\n",
        "\n",
        "To compute the revenue growth of one month compared to the previous one, we can use `.pct_change()`"
      ]
    },
    {
      "cell_type": "code",
      "execution_count": 18,
      "metadata": {
        "id": "RPd2K6jIK5bH"
      },
      "outputs": [],
      "source": [
        "# Compute the change overtime using .pct_change()\n",
        "tx_revenue['MonthlyGrowth'] = tx_revenue['Revenue'].pct_change()"
      ]
    },
    {
      "cell_type": "code",
      "execution_count": 19,
      "metadata": {
        "colab": {
          "base_uri": "https://localhost:8080/",
          "height": 189
        },
        "id": "_R-p1gGiK5bH",
        "outputId": "422bbb90-8a10-4a35-c5ca-032538f12128"
      },
      "outputs": [
        {
          "data": {
            "text/html": [
              "<div>\n",
              "<style scoped>\n",
              "    .dataframe tbody tr th:only-of-type {\n",
              "        vertical-align: middle;\n",
              "    }\n",
              "\n",
              "    .dataframe tbody tr th {\n",
              "        vertical-align: top;\n",
              "    }\n",
              "\n",
              "    .dataframe thead th {\n",
              "        text-align: right;\n",
              "    }\n",
              "</style>\n",
              "<table border=\"1\" class=\"dataframe\">\n",
              "  <thead>\n",
              "    <tr style=\"text-align: right;\">\n",
              "      <th></th>\n",
              "      <th>InvoiceYearMonth</th>\n",
              "      <th>Revenue</th>\n",
              "      <th>MonthlyGrowth</th>\n",
              "    </tr>\n",
              "  </thead>\n",
              "  <tbody>\n",
              "    <tr>\n",
              "      <th>0</th>\n",
              "      <td>2010-12</td>\n",
              "      <td>748957.020</td>\n",
              "      <td>NaN</td>\n",
              "    </tr>\n",
              "    <tr>\n",
              "      <th>1</th>\n",
              "      <td>2011-01</td>\n",
              "      <td>560000.260</td>\n",
              "      <td>-0.252293</td>\n",
              "    </tr>\n",
              "    <tr>\n",
              "      <th>2</th>\n",
              "      <td>2011-02</td>\n",
              "      <td>498062.650</td>\n",
              "      <td>-0.110603</td>\n",
              "    </tr>\n",
              "    <tr>\n",
              "      <th>3</th>\n",
              "      <td>2011-03</td>\n",
              "      <td>683267.080</td>\n",
              "      <td>0.371850</td>\n",
              "    </tr>\n",
              "    <tr>\n",
              "      <th>4</th>\n",
              "      <td>2011-04</td>\n",
              "      <td>493207.121</td>\n",
              "      <td>-0.278163</td>\n",
              "    </tr>\n",
              "  </tbody>\n",
              "</table>\n",
              "</div>"
            ],
            "text/plain": [
              "  InvoiceYearMonth     Revenue  MonthlyGrowth\n",
              "0          2010-12  748957.020            NaN\n",
              "1          2011-01  560000.260      -0.252293\n",
              "2          2011-02  498062.650      -0.110603\n",
              "3          2011-03  683267.080       0.371850\n",
              "4          2011-04  493207.121      -0.278163"
            ]
          },
          "execution_count": 19,
          "metadata": {},
          "output_type": "execute_result"
        }
      ],
      "source": [
        "tx_revenue.head()"
      ]
    },
    {
      "cell_type": "code",
      "execution_count": 20,
      "metadata": {
        "colab": {
          "base_uri": "https://localhost:8080/",
          "height": 334
        },
        "id": "pKoFk1LFK5bH",
        "outputId": "338cdb53-b823-468b-d909-1f40b9e0d4da"
      },
      "outputs": [
        {
          "data": {
            "text/plain": [
              "<matplotlib.lines.Line2D at 0x1fb00530140>"
            ]
          },
          "execution_count": 20,
          "metadata": {},
          "output_type": "execute_result"
        },
        {
          "data": {
            "image/png": "[encoded data removed]",
            "text/plain": [
              "<Figure size 1500x500 with 1 Axes>"
            ]
          },
          "metadata": {},
          "output_type": "display_data"
        }
      ],
      "source": [
        "# Plot the month growth\n",
        "plt.figure(figsize=(15,5))\n",
        "sns.lineplot(data=tx_revenue, x=\"InvoiceYearMonth\",y=\"MonthlyGrowth\")\n",
        "plt.axhline(y=0, color = \"red\")"
      ]
    },
    {
      "cell_type": "code",
      "execution_count": 21,
      "metadata": {},
      "outputs": [
        {
          "data": {
            "text/plain": [
              "count    516384.000000\n",
              "mean         18.037120\n",
              "std         198.783495\n",
              "min      -77183.600000\n",
              "25%           3.400000\n",
              "50%           9.840000\n",
              "75%          17.400000\n",
              "max       77183.600000\n",
              "Name: Revenue, dtype: float64"
            ]
          },
          "execution_count": 21,
          "metadata": {},
          "output_type": "execute_result"
        }
      ],
      "source": [
        "tx_data[\"Revenue\"].describe()"
      ]
    },
    {
      "cell_type": "code",
      "execution_count": 22,
      "metadata": {},
      "outputs": [
        {
          "data": {
            "text/html": [
              "<div>\n",
              "<style scoped>\n",
              "    .dataframe tbody tr th:only-of-type {\n",
              "        vertical-align: middle;\n",
              "    }\n",
              "\n",
              "    .dataframe tbody tr th {\n",
              "        vertical-align: top;\n",
              "    }\n",
              "\n",
              "    .dataframe thead th {\n",
              "        text-align: right;\n",
              "    }\n",
              "</style>\n",
              "<table border=\"1\" class=\"dataframe\">\n",
              "  <thead>\n",
              "    <tr style=\"text-align: right;\">\n",
              "      <th></th>\n",
              "      <th>InvoiceNo</th>\n",
              "      <th>StockCode</th>\n",
              "      <th>Description</th>\n",
              "      <th>Quantity</th>\n",
              "      <th>InvoiceDate</th>\n",
              "      <th>UnitPrice</th>\n",
              "      <th>CustomerID</th>\n",
              "      <th>Country</th>\n",
              "      <th>InvoiceYearMonth</th>\n",
              "      <th>Revenue</th>\n",
              "    </tr>\n",
              "  </thead>\n",
              "  <tbody>\n",
              "    <tr>\n",
              "      <th>141</th>\n",
              "      <td>C536379</td>\n",
              "      <td>D</td>\n",
              "      <td>Discount</td>\n",
              "      <td>-1</td>\n",
              "      <td>2010-12-01 09:41:00</td>\n",
              "      <td>27.50</td>\n",
              "      <td>14527.0</td>\n",
              "      <td>United Kingdom</td>\n",
              "      <td>2010-12</td>\n",
              "      <td>-27.50</td>\n",
              "    </tr>\n",
              "    <tr>\n",
              "      <th>154</th>\n",
              "      <td>C536383</td>\n",
              "      <td>35004C</td>\n",
              "      <td>SET OF 3 COLOURED  FLYING DUCKS</td>\n",
              "      <td>-1</td>\n",
              "      <td>2010-12-01 09:49:00</td>\n",
              "      <td>4.65</td>\n",
              "      <td>15311.0</td>\n",
              "      <td>United Kingdom</td>\n",
              "      <td>2010-12</td>\n",
              "      <td>-4.65</td>\n",
              "    </tr>\n",
              "    <tr>\n",
              "      <th>235</th>\n",
              "      <td>C536391</td>\n",
              "      <td>22556</td>\n",
              "      <td>PLASTERS IN TIN CIRCUS PARADE</td>\n",
              "      <td>-12</td>\n",
              "      <td>2010-12-01 10:24:00</td>\n",
              "      <td>1.65</td>\n",
              "      <td>17548.0</td>\n",
              "      <td>United Kingdom</td>\n",
              "      <td>2010-12</td>\n",
              "      <td>-19.80</td>\n",
              "    </tr>\n",
              "    <tr>\n",
              "      <th>236</th>\n",
              "      <td>C536391</td>\n",
              "      <td>21984</td>\n",
              "      <td>PACK OF 12 PINK PAISLEY TISSUES</td>\n",
              "      <td>-24</td>\n",
              "      <td>2010-12-01 10:24:00</td>\n",
              "      <td>0.29</td>\n",
              "      <td>17548.0</td>\n",
              "      <td>United Kingdom</td>\n",
              "      <td>2010-12</td>\n",
              "      <td>-6.96</td>\n",
              "    </tr>\n",
              "    <tr>\n",
              "      <th>237</th>\n",
              "      <td>C536391</td>\n",
              "      <td>21983</td>\n",
              "      <td>PACK OF 12 BLUE PAISLEY TISSUES</td>\n",
              "      <td>-24</td>\n",
              "      <td>2010-12-01 10:24:00</td>\n",
              "      <td>0.29</td>\n",
              "      <td>17548.0</td>\n",
              "      <td>United Kingdom</td>\n",
              "      <td>2010-12</td>\n",
              "      <td>-6.96</td>\n",
              "    </tr>\n",
              "    <tr>\n",
              "      <th>...</th>\n",
              "      <td>...</td>\n",
              "      <td>...</td>\n",
              "      <td>...</td>\n",
              "      <td>...</td>\n",
              "      <td>...</td>\n",
              "      <td>...</td>\n",
              "      <td>...</td>\n",
              "      <td>...</td>\n",
              "      <td>...</td>\n",
              "      <td>...</td>\n",
              "    </tr>\n",
              "    <tr>\n",
              "      <th>516379</th>\n",
              "      <td>C579886</td>\n",
              "      <td>22197</td>\n",
              "      <td>POPCORN HOLDER</td>\n",
              "      <td>-1</td>\n",
              "      <td>2011-11-30 17:39:00</td>\n",
              "      <td>0.85</td>\n",
              "      <td>15676.0</td>\n",
              "      <td>United Kingdom</td>\n",
              "      <td>2011-11</td>\n",
              "      <td>-0.85</td>\n",
              "    </tr>\n",
              "    <tr>\n",
              "      <th>516380</th>\n",
              "      <td>C579886</td>\n",
              "      <td>23146</td>\n",
              "      <td>TRIPLE HOOK ANTIQUE IVORY ROSE</td>\n",
              "      <td>-1</td>\n",
              "      <td>2011-11-30 17:39:00</td>\n",
              "      <td>3.29</td>\n",
              "      <td>15676.0</td>\n",
              "      <td>United Kingdom</td>\n",
              "      <td>2011-11</td>\n",
              "      <td>-3.29</td>\n",
              "    </tr>\n",
              "    <tr>\n",
              "      <th>516381</th>\n",
              "      <td>C579887</td>\n",
              "      <td>84946</td>\n",
              "      <td>ANTIQUE SILVER T-LIGHT GLASS</td>\n",
              "      <td>-1</td>\n",
              "      <td>2011-11-30 17:42:00</td>\n",
              "      <td>1.25</td>\n",
              "      <td>16717.0</td>\n",
              "      <td>United Kingdom</td>\n",
              "      <td>2011-11</td>\n",
              "      <td>-1.25</td>\n",
              "    </tr>\n",
              "    <tr>\n",
              "      <th>516382</th>\n",
              "      <td>C579887</td>\n",
              "      <td>85048</td>\n",
              "      <td>15CM CHRISTMAS GLASS BALL 20 LIGHTS</td>\n",
              "      <td>-1</td>\n",
              "      <td>2011-11-30 17:42:00</td>\n",
              "      <td>7.95</td>\n",
              "      <td>16717.0</td>\n",
              "      <td>United Kingdom</td>\n",
              "      <td>2011-11</td>\n",
              "      <td>-7.95</td>\n",
              "    </tr>\n",
              "    <tr>\n",
              "      <th>516383</th>\n",
              "      <td>C579887</td>\n",
              "      <td>23490</td>\n",
              "      <td>T-LIGHT HOLDER HANGING LOVE BIRD</td>\n",
              "      <td>-3</td>\n",
              "      <td>2011-11-30 17:42:00</td>\n",
              "      <td>3.75</td>\n",
              "      <td>16717.0</td>\n",
              "      <td>United Kingdom</td>\n",
              "      <td>2011-11</td>\n",
              "      <td>-11.25</td>\n",
              "    </tr>\n",
              "  </tbody>\n",
              "</table>\n",
              "<p>8930 rows × 10 columns</p>\n",
              "</div>"
            ],
            "text/plain": [
              "       InvoiceNo StockCode                          Description  Quantity  \\\n",
              "141      C536379         D                             Discount        -1   \n",
              "154      C536383    35004C      SET OF 3 COLOURED  FLYING DUCKS        -1   \n",
              "235      C536391     22556       PLASTERS IN TIN CIRCUS PARADE        -12   \n",
              "236      C536391     21984     PACK OF 12 PINK PAISLEY TISSUES        -24   \n",
              "237      C536391     21983     PACK OF 12 BLUE PAISLEY TISSUES        -24   \n",
              "...          ...       ...                                  ...       ...   \n",
              "516379   C579886     22197                       POPCORN HOLDER        -1   \n",
              "516380   C579886     23146       TRIPLE HOOK ANTIQUE IVORY ROSE        -1   \n",
              "516381   C579887     84946         ANTIQUE SILVER T-LIGHT GLASS        -1   \n",
              "516382   C579887     85048  15CM CHRISTMAS GLASS BALL 20 LIGHTS        -1   \n",
              "516383   C579887     23490     T-LIGHT HOLDER HANGING LOVE BIRD        -3   \n",
              "\n",
              "               InvoiceDate  UnitPrice  CustomerID         Country  \\\n",
              "141    2010-12-01 09:41:00      27.50     14527.0  United Kingdom   \n",
              "154    2010-12-01 09:49:00       4.65     15311.0  United Kingdom   \n",
              "235    2010-12-01 10:24:00       1.65     17548.0  United Kingdom   \n",
              "236    2010-12-01 10:24:00       0.29     17548.0  United Kingdom   \n",
              "237    2010-12-01 10:24:00       0.29     17548.0  United Kingdom   \n",
              "...                    ...        ...         ...             ...   \n",
              "516379 2011-11-30 17:39:00       0.85     15676.0  United Kingdom   \n",
              "516380 2011-11-30 17:39:00       3.29     15676.0  United Kingdom   \n",
              "516381 2011-11-30 17:42:00       1.25     16717.0  United Kingdom   \n",
              "516382 2011-11-30 17:42:00       7.95     16717.0  United Kingdom   \n",
              "516383 2011-11-30 17:42:00       3.75     16717.0  United Kingdom   \n",
              "\n",
              "       InvoiceYearMonth  Revenue  \n",
              "141             2010-12   -27.50  \n",
              "154             2010-12    -4.65  \n",
              "235             2010-12   -19.80  \n",
              "236             2010-12    -6.96  \n",
              "237             2010-12    -6.96  \n",
              "...                 ...      ...  \n",
              "516379          2011-11    -0.85  \n",
              "516380          2011-11    -3.29  \n",
              "516381          2011-11    -1.25  \n",
              "516382          2011-11    -7.95  \n",
              "516383          2011-11   -11.25  \n",
              "\n",
              "[8930 rows x 10 columns]"
            ]
          },
          "execution_count": 22,
          "metadata": {},
          "output_type": "execute_result"
        }
      ],
      "source": [
        "tx_data[tx_data[\"Revenue\"] < 0]"
      ]
    },
    {
      "cell_type": "code",
      "execution_count": 23,
      "metadata": {},
      "outputs": [
        {
          "data": {
            "text/html": [
              "<div>\n",
              "<style scoped>\n",
              "    .dataframe tbody tr th:only-of-type {\n",
              "        vertical-align: middle;\n",
              "    }\n",
              "\n",
              "    .dataframe tbody tr th {\n",
              "        vertical-align: top;\n",
              "    }\n",
              "\n",
              "    .dataframe thead th {\n",
              "        text-align: right;\n",
              "    }\n",
              "</style>\n",
              "<table border=\"1\" class=\"dataframe\">\n",
              "  <thead>\n",
              "    <tr style=\"text-align: right;\">\n",
              "      <th></th>\n",
              "      <th>InvoiceNo</th>\n",
              "      <th>StockCode</th>\n",
              "      <th>Description</th>\n",
              "      <th>Quantity</th>\n",
              "      <th>InvoiceDate</th>\n",
              "      <th>UnitPrice</th>\n",
              "      <th>CustomerID</th>\n",
              "      <th>Country</th>\n",
              "      <th>InvoiceYearMonth</th>\n",
              "      <th>Revenue</th>\n",
              "    </tr>\n",
              "  </thead>\n",
              "  <tbody>\n",
              "    <tr>\n",
              "      <th>154</th>\n",
              "      <td>C536383</td>\n",
              "      <td>35004C</td>\n",
              "      <td>SET OF 3 COLOURED  FLYING DUCKS</td>\n",
              "      <td>-1</td>\n",
              "      <td>2010-12-01 09:49:00</td>\n",
              "      <td>4.65</td>\n",
              "      <td>15311.0</td>\n",
              "      <td>United Kingdom</td>\n",
              "      <td>2010-12</td>\n",
              "      <td>-4.65</td>\n",
              "    </tr>\n",
              "    <tr>\n",
              "      <th>9200</th>\n",
              "      <td>537195</td>\n",
              "      <td>35004C</td>\n",
              "      <td>SET OF 3 COLOURED  FLYING DUCKS</td>\n",
              "      <td>12</td>\n",
              "      <td>2010-12-05 13:55:00</td>\n",
              "      <td>4.65</td>\n",
              "      <td>15311.0</td>\n",
              "      <td>United Kingdom</td>\n",
              "      <td>2010-12</td>\n",
              "      <td>55.80</td>\n",
              "    </tr>\n",
              "    <tr>\n",
              "      <th>18196</th>\n",
              "      <td>C537805</td>\n",
              "      <td>35004C</td>\n",
              "      <td>SET OF 3 COLOURED  FLYING DUCKS</td>\n",
              "      <td>-1</td>\n",
              "      <td>2010-12-08 13:18:00</td>\n",
              "      <td>4.65</td>\n",
              "      <td>15311.0</td>\n",
              "      <td>United Kingdom</td>\n",
              "      <td>2010-12</td>\n",
              "      <td>-4.65</td>\n",
              "    </tr>\n",
              "    <tr>\n",
              "      <th>28630</th>\n",
              "      <td>538651</td>\n",
              "      <td>35004C</td>\n",
              "      <td>SET OF 3 COLOURED  FLYING DUCKS</td>\n",
              "      <td>12</td>\n",
              "      <td>2010-12-13 15:07:00</td>\n",
              "      <td>4.65</td>\n",
              "      <td>15311.0</td>\n",
              "      <td>United Kingdom</td>\n",
              "      <td>2010-12</td>\n",
              "      <td>55.80</td>\n",
              "    </tr>\n",
              "    <tr>\n",
              "      <th>39381</th>\n",
              "      <td>C539640</td>\n",
              "      <td>35004C</td>\n",
              "      <td>SET OF 3 COLOURED  FLYING DUCKS</td>\n",
              "      <td>-3</td>\n",
              "      <td>2010-12-20 15:27:00</td>\n",
              "      <td>4.65</td>\n",
              "      <td>15311.0</td>\n",
              "      <td>United Kingdom</td>\n",
              "      <td>2010-12</td>\n",
              "      <td>-13.95</td>\n",
              "    </tr>\n",
              "    <tr>\n",
              "      <th>44157</th>\n",
              "      <td>540157</td>\n",
              "      <td>35004C</td>\n",
              "      <td>SET OF 3 COLOURED  FLYING DUCKS</td>\n",
              "      <td>12</td>\n",
              "      <td>2011-01-05 11:41:00</td>\n",
              "      <td>4.65</td>\n",
              "      <td>15311.0</td>\n",
              "      <td>United Kingdom</td>\n",
              "      <td>2011-01</td>\n",
              "      <td>55.80</td>\n",
              "    </tr>\n",
              "    <tr>\n",
              "      <th>59542</th>\n",
              "      <td>541293</td>\n",
              "      <td>35004C</td>\n",
              "      <td>SET OF 3 COLOURED  FLYING DUCKS</td>\n",
              "      <td>12</td>\n",
              "      <td>2011-01-17 13:39:00</td>\n",
              "      <td>4.65</td>\n",
              "      <td>15311.0</td>\n",
              "      <td>United Kingdom</td>\n",
              "      <td>2011-01</td>\n",
              "      <td>55.80</td>\n",
              "    </tr>\n",
              "    <tr>\n",
              "      <th>78333</th>\n",
              "      <td>C542866</td>\n",
              "      <td>35004C</td>\n",
              "      <td>SET OF 3 COLOURED  FLYING DUCKS</td>\n",
              "      <td>-2</td>\n",
              "      <td>2011-02-01 12:14:00</td>\n",
              "      <td>4.65</td>\n",
              "      <td>15311.0</td>\n",
              "      <td>United Kingdom</td>\n",
              "      <td>2011-02</td>\n",
              "      <td>-9.30</td>\n",
              "    </tr>\n",
              "  </tbody>\n",
              "</table>\n",
              "</div>"
            ],
            "text/plain": [
              "      InvoiceNo StockCode                      Description  Quantity  \\\n",
              "154     C536383    35004C  SET OF 3 COLOURED  FLYING DUCKS        -1   \n",
              "9200     537195    35004C  SET OF 3 COLOURED  FLYING DUCKS        12   \n",
              "18196   C537805    35004C  SET OF 3 COLOURED  FLYING DUCKS        -1   \n",
              "28630    538651    35004C  SET OF 3 COLOURED  FLYING DUCKS        12   \n",
              "39381   C539640    35004C  SET OF 3 COLOURED  FLYING DUCKS        -3   \n",
              "44157    540157    35004C  SET OF 3 COLOURED  FLYING DUCKS        12   \n",
              "59542    541293    35004C  SET OF 3 COLOURED  FLYING DUCKS        12   \n",
              "78333   C542866    35004C  SET OF 3 COLOURED  FLYING DUCKS        -2   \n",
              "\n",
              "              InvoiceDate  UnitPrice  CustomerID         Country  \\\n",
              "154   2010-12-01 09:49:00       4.65     15311.0  United Kingdom   \n",
              "9200  2010-12-05 13:55:00       4.65     15311.0  United Kingdom   \n",
              "18196 2010-12-08 13:18:00       4.65     15311.0  United Kingdom   \n",
              "28630 2010-12-13 15:07:00       4.65     15311.0  United Kingdom   \n",
              "39381 2010-12-20 15:27:00       4.65     15311.0  United Kingdom   \n",
              "44157 2011-01-05 11:41:00       4.65     15311.0  United Kingdom   \n",
              "59542 2011-01-17 13:39:00       4.65     15311.0  United Kingdom   \n",
              "78333 2011-02-01 12:14:00       4.65     15311.0  United Kingdom   \n",
              "\n",
              "      InvoiceYearMonth  Revenue  \n",
              "154            2010-12    -4.65  \n",
              "9200           2010-12    55.80  \n",
              "18196          2010-12    -4.65  \n",
              "28630          2010-12    55.80  \n",
              "39381          2010-12   -13.95  \n",
              "44157          2011-01    55.80  \n",
              "59542          2011-01    55.80  \n",
              "78333          2011-02    -9.30  "
            ]
          },
          "execution_count": 23,
          "metadata": {},
          "output_type": "execute_result"
        }
      ],
      "source": [
        "tx_data[\n",
        "    (tx_data[\"StockCode\"] == \"35004C\") & (tx_data[\"CustomerID\"] == 15311.0)\n",
        "].sort_values(\"InvoiceDate\")"
      ]
    },
    {
      "cell_type": "markdown",
      "metadata": {
        "id": "T1xYZX91T9w0"
      },
      "source": [
        "### Where is the main market of the store?\n"
      ]
    },
    {
      "cell_type": "code",
      "execution_count": 24,
      "metadata": {},
      "outputs": [
        {
          "data": {
            "text/html": [
              "<div>\n",
              "<style scoped>\n",
              "    .dataframe tbody tr th:only-of-type {\n",
              "        vertical-align: middle;\n",
              "    }\n",
              "\n",
              "    .dataframe tbody tr th {\n",
              "        vertical-align: top;\n",
              "    }\n",
              "\n",
              "    .dataframe thead th {\n",
              "        text-align: right;\n",
              "    }\n",
              "</style>\n",
              "<table border=\"1\" class=\"dataframe\">\n",
              "  <thead>\n",
              "    <tr style=\"text-align: right;\">\n",
              "      <th></th>\n",
              "      <th>InvoiceNo</th>\n",
              "      <th>StockCode</th>\n",
              "      <th>Description</th>\n",
              "      <th>Quantity</th>\n",
              "      <th>InvoiceDate</th>\n",
              "      <th>UnitPrice</th>\n",
              "      <th>CustomerID</th>\n",
              "      <th>Country</th>\n",
              "      <th>InvoiceYearMonth</th>\n",
              "      <th>Revenue</th>\n",
              "    </tr>\n",
              "  </thead>\n",
              "  <tbody>\n",
              "    <tr>\n",
              "      <th>0</th>\n",
              "      <td>536365</td>\n",
              "      <td>85123A</td>\n",
              "      <td>WHITE HANGING HEART T-LIGHT HOLDER</td>\n",
              "      <td>6</td>\n",
              "      <td>2010-12-01 08:26:00</td>\n",
              "      <td>2.55</td>\n",
              "      <td>17850.0</td>\n",
              "      <td>United Kingdom</td>\n",
              "      <td>2010-12</td>\n",
              "      <td>15.30</td>\n",
              "    </tr>\n",
              "    <tr>\n",
              "      <th>1</th>\n",
              "      <td>536365</td>\n",
              "      <td>71053</td>\n",
              "      <td>WHITE METAL LANTERN</td>\n",
              "      <td>6</td>\n",
              "      <td>2010-12-01 08:26:00</td>\n",
              "      <td>3.39</td>\n",
              "      <td>17850.0</td>\n",
              "      <td>United Kingdom</td>\n",
              "      <td>2010-12</td>\n",
              "      <td>20.34</td>\n",
              "    </tr>\n",
              "    <tr>\n",
              "      <th>2</th>\n",
              "      <td>536365</td>\n",
              "      <td>84406B</td>\n",
              "      <td>CREAM CUPID HEARTS COAT HANGER</td>\n",
              "      <td>8</td>\n",
              "      <td>2010-12-01 08:26:00</td>\n",
              "      <td>2.75</td>\n",
              "      <td>17850.0</td>\n",
              "      <td>United Kingdom</td>\n",
              "      <td>2010-12</td>\n",
              "      <td>22.00</td>\n",
              "    </tr>\n",
              "    <tr>\n",
              "      <th>3</th>\n",
              "      <td>536365</td>\n",
              "      <td>84029G</td>\n",
              "      <td>KNITTED UNION FLAG HOT WATER BOTTLE</td>\n",
              "      <td>6</td>\n",
              "      <td>2010-12-01 08:26:00</td>\n",
              "      <td>3.39</td>\n",
              "      <td>17850.0</td>\n",
              "      <td>United Kingdom</td>\n",
              "      <td>2010-12</td>\n",
              "      <td>20.34</td>\n",
              "    </tr>\n",
              "    <tr>\n",
              "      <th>4</th>\n",
              "      <td>536365</td>\n",
              "      <td>84029E</td>\n",
              "      <td>RED WOOLLY HOTTIE WHITE HEART.</td>\n",
              "      <td>6</td>\n",
              "      <td>2010-12-01 08:26:00</td>\n",
              "      <td>3.39</td>\n",
              "      <td>17850.0</td>\n",
              "      <td>United Kingdom</td>\n",
              "      <td>2010-12</td>\n",
              "      <td>20.34</td>\n",
              "    </tr>\n",
              "  </tbody>\n",
              "</table>\n",
              "</div>"
            ],
            "text/plain": [
              "  InvoiceNo StockCode                          Description  Quantity  \\\n",
              "0    536365    85123A   WHITE HANGING HEART T-LIGHT HOLDER         6   \n",
              "1    536365     71053                  WHITE METAL LANTERN         6   \n",
              "2    536365    84406B       CREAM CUPID HEARTS COAT HANGER         8   \n",
              "3    536365    84029G  KNITTED UNION FLAG HOT WATER BOTTLE         6   \n",
              "4    536365    84029E       RED WOOLLY HOTTIE WHITE HEART.         6   \n",
              "\n",
              "          InvoiceDate  UnitPrice  CustomerID         Country InvoiceYearMonth  \\\n",
              "0 2010-12-01 08:26:00       2.55     17850.0  United Kingdom          2010-12   \n",
              "1 2010-12-01 08:26:00       3.39     17850.0  United Kingdom          2010-12   \n",
              "2 2010-12-01 08:26:00       2.75     17850.0  United Kingdom          2010-12   \n",
              "3 2010-12-01 08:26:00       3.39     17850.0  United Kingdom          2010-12   \n",
              "4 2010-12-01 08:26:00       3.39     17850.0  United Kingdom          2010-12   \n",
              "\n",
              "   Revenue  \n",
              "0    15.30  \n",
              "1    20.34  \n",
              "2    22.00  \n",
              "3    20.34  \n",
              "4    20.34  "
            ]
          },
          "execution_count": 24,
          "metadata": {},
          "output_type": "execute_result"
        }
      ],
      "source": [
        "tx_data.head()"
      ]
    },
    {
      "cell_type": "code",
      "execution_count": 25,
      "metadata": {
        "colab": {
          "base_uri": "https://localhost:8080/",
          "height": 606
        },
        "id": "eM1qO1w6UKzq",
        "outputId": "4d4d564b-410a-4c7c-d243-626eb5d612af"
      },
      "outputs": [
        {
          "data": {
            "text/html": [
              "<div>\n",
              "<style scoped>\n",
              "    .dataframe tbody tr th:only-of-type {\n",
              "        vertical-align: middle;\n",
              "    }\n",
              "\n",
              "    .dataframe tbody tr th {\n",
              "        vertical-align: top;\n",
              "    }\n",
              "\n",
              "    .dataframe thead th {\n",
              "        text-align: right;\n",
              "    }\n",
              "</style>\n",
              "<table border=\"1\" class=\"dataframe\">\n",
              "  <thead>\n",
              "    <tr style=\"text-align: right;\">\n",
              "      <th></th>\n",
              "      <th>Country</th>\n",
              "      <th>Revenue</th>\n",
              "    </tr>\n",
              "  </thead>\n",
              "  <tbody>\n",
              "    <tr>\n",
              "      <th>0</th>\n",
              "      <td>Australia</td>\n",
              "      <td>137077.270</td>\n",
              "    </tr>\n",
              "    <tr>\n",
              "      <th>1</th>\n",
              "      <td>Austria</td>\n",
              "      <td>9471.120</td>\n",
              "    </tr>\n",
              "    <tr>\n",
              "      <th>2</th>\n",
              "      <td>Bahrain</td>\n",
              "      <td>548.400</td>\n",
              "    </tr>\n",
              "    <tr>\n",
              "      <th>3</th>\n",
              "      <td>Belgium</td>\n",
              "      <td>39501.530</td>\n",
              "    </tr>\n",
              "    <tr>\n",
              "      <th>4</th>\n",
              "      <td>Brazil</td>\n",
              "      <td>1143.600</td>\n",
              "    </tr>\n",
              "    <tr>\n",
              "      <th>5</th>\n",
              "      <td>Canada</td>\n",
              "      <td>3666.380</td>\n",
              "    </tr>\n",
              "    <tr>\n",
              "      <th>6</th>\n",
              "      <td>Channel Islands</td>\n",
              "      <td>19892.140</td>\n",
              "    </tr>\n",
              "    <tr>\n",
              "      <th>7</th>\n",
              "      <td>Cyprus</td>\n",
              "      <td>13037.540</td>\n",
              "    </tr>\n",
              "    <tr>\n",
              "      <th>8</th>\n",
              "      <td>Czech Republic</td>\n",
              "      <td>707.720</td>\n",
              "    </tr>\n",
              "    <tr>\n",
              "      <th>9</th>\n",
              "      <td>Denmark</td>\n",
              "      <td>18599.240</td>\n",
              "    </tr>\n",
              "    <tr>\n",
              "      <th>10</th>\n",
              "      <td>EIRE</td>\n",
              "      <td>255953.780</td>\n",
              "    </tr>\n",
              "    <tr>\n",
              "      <th>11</th>\n",
              "      <td>European Community</td>\n",
              "      <td>1291.750</td>\n",
              "    </tr>\n",
              "    <tr>\n",
              "      <th>12</th>\n",
              "      <td>Finland</td>\n",
              "      <td>21096.060</td>\n",
              "    </tr>\n",
              "    <tr>\n",
              "      <th>13</th>\n",
              "      <td>France</td>\n",
              "      <td>190355.070</td>\n",
              "    </tr>\n",
              "    <tr>\n",
              "      <th>14</th>\n",
              "      <td>Germany</td>\n",
              "      <td>213893.510</td>\n",
              "    </tr>\n",
              "    <tr>\n",
              "      <th>15</th>\n",
              "      <td>Greece</td>\n",
              "      <td>4029.530</td>\n",
              "    </tr>\n",
              "    <tr>\n",
              "      <th>16</th>\n",
              "      <td>Hong Kong</td>\n",
              "      <td>10117.040</td>\n",
              "    </tr>\n",
              "    <tr>\n",
              "      <th>17</th>\n",
              "      <td>Iceland</td>\n",
              "      <td>4085.180</td>\n",
              "    </tr>\n",
              "    <tr>\n",
              "      <th>18</th>\n",
              "      <td>Israel</td>\n",
              "      <td>7907.820</td>\n",
              "    </tr>\n",
              "    <tr>\n",
              "      <th>19</th>\n",
              "      <td>Italy</td>\n",
              "      <td>16690.060</td>\n",
              "    </tr>\n",
              "    <tr>\n",
              "      <th>20</th>\n",
              "      <td>Japan</td>\n",
              "      <td>35457.550</td>\n",
              "    </tr>\n",
              "    <tr>\n",
              "      <th>21</th>\n",
              "      <td>Lebanon</td>\n",
              "      <td>1693.880</td>\n",
              "    </tr>\n",
              "    <tr>\n",
              "      <th>22</th>\n",
              "      <td>Lithuania</td>\n",
              "      <td>1661.060</td>\n",
              "    </tr>\n",
              "    <tr>\n",
              "      <th>23</th>\n",
              "      <td>Malta</td>\n",
              "      <td>2536.280</td>\n",
              "    </tr>\n",
              "    <tr>\n",
              "      <th>24</th>\n",
              "      <td>Netherlands</td>\n",
              "      <td>272933.520</td>\n",
              "    </tr>\n",
              "    <tr>\n",
              "      <th>25</th>\n",
              "      <td>Norway</td>\n",
              "      <td>32377.760</td>\n",
              "    </tr>\n",
              "    <tr>\n",
              "      <th>26</th>\n",
              "      <td>Poland</td>\n",
              "      <td>7213.140</td>\n",
              "    </tr>\n",
              "    <tr>\n",
              "      <th>27</th>\n",
              "      <td>Portugal</td>\n",
              "      <td>26565.070</td>\n",
              "    </tr>\n",
              "    <tr>\n",
              "      <th>28</th>\n",
              "      <td>RSA</td>\n",
              "      <td>1002.310</td>\n",
              "    </tr>\n",
              "    <tr>\n",
              "      <th>29</th>\n",
              "      <td>Saudi Arabia</td>\n",
              "      <td>131.170</td>\n",
              "    </tr>\n",
              "    <tr>\n",
              "      <th>30</th>\n",
              "      <td>Singapore</td>\n",
              "      <td>9120.390</td>\n",
              "    </tr>\n",
              "    <tr>\n",
              "      <th>31</th>\n",
              "      <td>Spain</td>\n",
              "      <td>54503.150</td>\n",
              "    </tr>\n",
              "    <tr>\n",
              "      <th>32</th>\n",
              "      <td>Sweden</td>\n",
              "      <td>36595.910</td>\n",
              "    </tr>\n",
              "    <tr>\n",
              "      <th>33</th>\n",
              "      <td>Switzerland</td>\n",
              "      <td>56385.350</td>\n",
              "    </tr>\n",
              "    <tr>\n",
              "      <th>34</th>\n",
              "      <td>USA</td>\n",
              "      <td>1115.640</td>\n",
              "    </tr>\n",
              "    <tr>\n",
              "      <th>35</th>\n",
              "      <td>United Arab Emirates</td>\n",
              "      <td>1902.280</td>\n",
              "    </tr>\n",
              "    <tr>\n",
              "      <th>36</th>\n",
              "      <td>United Kingdom</td>\n",
              "      <td>7799070.934</td>\n",
              "    </tr>\n",
              "    <tr>\n",
              "      <th>37</th>\n",
              "      <td>Unspecified</td>\n",
              "      <td>4749.790</td>\n",
              "    </tr>\n",
              "  </tbody>\n",
              "</table>\n",
              "</div>"
            ],
            "text/plain": [
              "                 Country      Revenue\n",
              "0              Australia   137077.270\n",
              "1                Austria     9471.120\n",
              "2                Bahrain      548.400\n",
              "3                Belgium    39501.530\n",
              "4                 Brazil     1143.600\n",
              "5                 Canada     3666.380\n",
              "6        Channel Islands    19892.140\n",
              "7                 Cyprus    13037.540\n",
              "8         Czech Republic      707.720\n",
              "9                Denmark    18599.240\n",
              "10                  EIRE   255953.780\n",
              "11    European Community     1291.750\n",
              "12               Finland    21096.060\n",
              "13                France   190355.070\n",
              "14               Germany   213893.510\n",
              "15                Greece     4029.530\n",
              "16             Hong Kong    10117.040\n",
              "17               Iceland     4085.180\n",
              "18                Israel     7907.820\n",
              "19                 Italy    16690.060\n",
              "20                 Japan    35457.550\n",
              "21               Lebanon     1693.880\n",
              "22             Lithuania     1661.060\n",
              "23                 Malta     2536.280\n",
              "24           Netherlands   272933.520\n",
              "25                Norway    32377.760\n",
              "26                Poland     7213.140\n",
              "27              Portugal    26565.070\n",
              "28                   RSA     1002.310\n",
              "29          Saudi Arabia      131.170\n",
              "30             Singapore     9120.390\n",
              "31                 Spain    54503.150\n",
              "32                Sweden    36595.910\n",
              "33           Switzerland    56385.350\n",
              "34                   USA     1115.640\n",
              "35  United Arab Emirates     1902.280\n",
              "36        United Kingdom  7799070.934\n",
              "37           Unspecified     4749.790"
            ]
          },
          "execution_count": 25,
          "metadata": {},
          "output_type": "execute_result"
        }
      ],
      "source": [
        "# Plot the Total Revenue by Country\n",
        "plot_data = tx_data.groupby(\"Country\")[\"Revenue\"].sum().reset_index()\n",
        "plot_data"
      ]
    },
    {
      "cell_type": "code",
      "execution_count": 26,
      "metadata": {},
      "outputs": [
        {
          "data": {
            "image/png": "[encoded data removed]",
            "text/plain": [
              "<Figure size 1000x1500 with 1 Axes>"
            ]
          },
          "metadata": {},
          "output_type": "display_data"
        }
      ],
      "source": [
        "plt.figure(figsize=(10,15))\n",
        "sns.barplot(data=plot_data,x=\"Revenue\", y=\"Country\")\n",
        "plt.show()"
      ]
    },
    {
      "cell_type": "markdown",
      "metadata": {
        "id": "SMZrUyv6UhYl"
      },
      "source": [
        "We can see clearly that UK is the dominant market of this online retailer. In this report, we will focus on the UK market only to have a better specific insight."
      ]
    },
    {
      "cell_type": "code",
      "execution_count": 27,
      "metadata": {
        "colab": {
          "base_uri": "https://localhost:8080/",
          "height": 189
        },
        "id": "xpjzTpVHK5bH",
        "outputId": "a6279bc5-c122-469e-d270-f7b0d0bfcd97"
      },
      "outputs": [
        {
          "data": {
            "text/html": [
              "<div>\n",
              "<style scoped>\n",
              "    .dataframe tbody tr th:only-of-type {\n",
              "        vertical-align: middle;\n",
              "    }\n",
              "\n",
              "    .dataframe tbody tr th {\n",
              "        vertical-align: top;\n",
              "    }\n",
              "\n",
              "    .dataframe thead th {\n",
              "        text-align: right;\n",
              "    }\n",
              "</style>\n",
              "<table border=\"1\" class=\"dataframe\">\n",
              "  <thead>\n",
              "    <tr style=\"text-align: right;\">\n",
              "      <th></th>\n",
              "      <th>InvoiceNo</th>\n",
              "      <th>StockCode</th>\n",
              "      <th>Description</th>\n",
              "      <th>Quantity</th>\n",
              "      <th>InvoiceDate</th>\n",
              "      <th>UnitPrice</th>\n",
              "      <th>CustomerID</th>\n",
              "      <th>Country</th>\n",
              "      <th>InvoiceYearMonth</th>\n",
              "      <th>Revenue</th>\n",
              "    </tr>\n",
              "  </thead>\n",
              "  <tbody>\n",
              "    <tr>\n",
              "      <th>0</th>\n",
              "      <td>536365</td>\n",
              "      <td>85123A</td>\n",
              "      <td>WHITE HANGING HEART T-LIGHT HOLDER</td>\n",
              "      <td>6</td>\n",
              "      <td>2010-12-01 08:26:00</td>\n",
              "      <td>2.55</td>\n",
              "      <td>17850.0</td>\n",
              "      <td>United Kingdom</td>\n",
              "      <td>2010-12</td>\n",
              "      <td>15.30</td>\n",
              "    </tr>\n",
              "    <tr>\n",
              "      <th>1</th>\n",
              "      <td>536365</td>\n",
              "      <td>71053</td>\n",
              "      <td>WHITE METAL LANTERN</td>\n",
              "      <td>6</td>\n",
              "      <td>2010-12-01 08:26:00</td>\n",
              "      <td>3.39</td>\n",
              "      <td>17850.0</td>\n",
              "      <td>United Kingdom</td>\n",
              "      <td>2010-12</td>\n",
              "      <td>20.34</td>\n",
              "    </tr>\n",
              "    <tr>\n",
              "      <th>2</th>\n",
              "      <td>536365</td>\n",
              "      <td>84406B</td>\n",
              "      <td>CREAM CUPID HEARTS COAT HANGER</td>\n",
              "      <td>8</td>\n",
              "      <td>2010-12-01 08:26:00</td>\n",
              "      <td>2.75</td>\n",
              "      <td>17850.0</td>\n",
              "      <td>United Kingdom</td>\n",
              "      <td>2010-12</td>\n",
              "      <td>22.00</td>\n",
              "    </tr>\n",
              "    <tr>\n",
              "      <th>3</th>\n",
              "      <td>536365</td>\n",
              "      <td>84029G</td>\n",
              "      <td>KNITTED UNION FLAG HOT WATER BOTTLE</td>\n",
              "      <td>6</td>\n",
              "      <td>2010-12-01 08:26:00</td>\n",
              "      <td>3.39</td>\n",
              "      <td>17850.0</td>\n",
              "      <td>United Kingdom</td>\n",
              "      <td>2010-12</td>\n",
              "      <td>20.34</td>\n",
              "    </tr>\n",
              "    <tr>\n",
              "      <th>4</th>\n",
              "      <td>536365</td>\n",
              "      <td>84029E</td>\n",
              "      <td>RED WOOLLY HOTTIE WHITE HEART.</td>\n",
              "      <td>6</td>\n",
              "      <td>2010-12-01 08:26:00</td>\n",
              "      <td>3.39</td>\n",
              "      <td>17850.0</td>\n",
              "      <td>United Kingdom</td>\n",
              "      <td>2010-12</td>\n",
              "      <td>20.34</td>\n",
              "    </tr>\n",
              "  </tbody>\n",
              "</table>\n",
              "</div>"
            ],
            "text/plain": [
              "  InvoiceNo StockCode                          Description  Quantity  \\\n",
              "0    536365    85123A   WHITE HANGING HEART T-LIGHT HOLDER         6   \n",
              "1    536365     71053                  WHITE METAL LANTERN         6   \n",
              "2    536365    84406B       CREAM CUPID HEARTS COAT HANGER         8   \n",
              "3    536365    84029G  KNITTED UNION FLAG HOT WATER BOTTLE         6   \n",
              "4    536365    84029E       RED WOOLLY HOTTIE WHITE HEART.         6   \n",
              "\n",
              "          InvoiceDate  UnitPrice  CustomerID         Country InvoiceYearMonth  \\\n",
              "0 2010-12-01 08:26:00       2.55     17850.0  United Kingdom          2010-12   \n",
              "1 2010-12-01 08:26:00       3.39     17850.0  United Kingdom          2010-12   \n",
              "2 2010-12-01 08:26:00       2.75     17850.0  United Kingdom          2010-12   \n",
              "3 2010-12-01 08:26:00       3.39     17850.0  United Kingdom          2010-12   \n",
              "4 2010-12-01 08:26:00       3.39     17850.0  United Kingdom          2010-12   \n",
              "\n",
              "   Revenue  \n",
              "0    15.30  \n",
              "1    20.34  \n",
              "2    22.00  \n",
              "3    20.34  \n",
              "4    20.34  "
            ]
          },
          "execution_count": 27,
          "metadata": {},
          "output_type": "execute_result"
        }
      ],
      "source": [
        "# Filter out data in UK only\n",
        "tx_uk = tx_data[tx_data['Country'] == 'United Kingdom'].reset_index(drop=True)\n",
        "tx_uk.head()"
      ]
    },
    {
      "cell_type": "markdown",
      "metadata": {
        "id": "rH7MLu_LTXHy"
      },
      "source": [
        "**From now on, we use tx_uk as the main dataframe for analysis!**"
      ]
    },
    {
      "cell_type": "markdown",
      "metadata": {
        "id": "Q_cyKS-vcNgK"
      },
      "source": [
        "# 3. Analyse Growth of Customer and Retention Rate"
      ]
    },
    {
      "cell_type": "markdown",
      "metadata": {
        "id": "MypeB_E8h7xY"
      },
      "source": [
        "## 3.1 / Active Customer"
      ]
    },
    {
      "cell_type": "code",
      "execution_count": 28,
      "metadata": {
        "colab": {
          "base_uri": "https://localhost:8080/",
          "height": 388
        },
        "id": "LBF_X1HEK5bI",
        "outputId": "f8b5e6ec-fa09-4242-c1cf-9fc6f5d6ffcf"
      },
      "outputs": [
        {
          "data": {
            "text/html": [
              "<div>\n",
              "<style scoped>\n",
              "    .dataframe tbody tr th:only-of-type {\n",
              "        vertical-align: middle;\n",
              "    }\n",
              "\n",
              "    .dataframe tbody tr th {\n",
              "        vertical-align: top;\n",
              "    }\n",
              "\n",
              "    .dataframe thead th {\n",
              "        text-align: right;\n",
              "    }\n",
              "</style>\n",
              "<table border=\"1\" class=\"dataframe\">\n",
              "  <thead>\n",
              "    <tr style=\"text-align: right;\">\n",
              "      <th></th>\n",
              "      <th>InvoiceYearMonth</th>\n",
              "      <th>CustomerID</th>\n",
              "    </tr>\n",
              "  </thead>\n",
              "  <tbody>\n",
              "    <tr>\n",
              "      <th>0</th>\n",
              "      <td>2010-12</td>\n",
              "      <td>871</td>\n",
              "    </tr>\n",
              "    <tr>\n",
              "      <th>1</th>\n",
              "      <td>2011-01</td>\n",
              "      <td>684</td>\n",
              "    </tr>\n",
              "    <tr>\n",
              "      <th>2</th>\n",
              "      <td>2011-02</td>\n",
              "      <td>714</td>\n",
              "    </tr>\n",
              "    <tr>\n",
              "      <th>3</th>\n",
              "      <td>2011-03</td>\n",
              "      <td>923</td>\n",
              "    </tr>\n",
              "    <tr>\n",
              "      <th>4</th>\n",
              "      <td>2011-04</td>\n",
              "      <td>817</td>\n",
              "    </tr>\n",
              "    <tr>\n",
              "      <th>5</th>\n",
              "      <td>2011-05</td>\n",
              "      <td>985</td>\n",
              "    </tr>\n",
              "    <tr>\n",
              "      <th>6</th>\n",
              "      <td>2011-06</td>\n",
              "      <td>943</td>\n",
              "    </tr>\n",
              "    <tr>\n",
              "      <th>7</th>\n",
              "      <td>2011-07</td>\n",
              "      <td>899</td>\n",
              "    </tr>\n",
              "    <tr>\n",
              "      <th>8</th>\n",
              "      <td>2011-08</td>\n",
              "      <td>867</td>\n",
              "    </tr>\n",
              "    <tr>\n",
              "      <th>9</th>\n",
              "      <td>2011-09</td>\n",
              "      <td>1177</td>\n",
              "    </tr>\n",
              "    <tr>\n",
              "      <th>10</th>\n",
              "      <td>2011-10</td>\n",
              "      <td>1285</td>\n",
              "    </tr>\n",
              "    <tr>\n",
              "      <th>11</th>\n",
              "      <td>2011-11</td>\n",
              "      <td>1548</td>\n",
              "    </tr>\n",
              "  </tbody>\n",
              "</table>\n",
              "</div>"
            ],
            "text/plain": [
              "   InvoiceYearMonth  CustomerID\n",
              "0           2010-12         871\n",
              "1           2011-01         684\n",
              "2           2011-02         714\n",
              "3           2011-03         923\n",
              "4           2011-04         817\n",
              "5           2011-05         985\n",
              "6           2011-06         943\n",
              "7           2011-07         899\n",
              "8           2011-08         867\n",
              "9           2011-09        1177\n",
              "10          2011-10        1285\n",
              "11          2011-11        1548"
            ]
          },
          "execution_count": 28,
          "metadata": {},
          "output_type": "execute_result"
        }
      ],
      "source": [
        "# Calculate number of unique customers each month\n",
        "tx_monthly_active = (tx_uk.groupby(\"InvoiceYearMonth\")[\"CustomerID\"].nunique().reset_index())\n",
        "tx_monthly_active"
      ]
    },
    {
      "cell_type": "code",
      "execution_count": 29,
      "metadata": {
        "colab": {
          "base_uri": "https://localhost:8080/",
          "height": 334
        },
        "id": "km-BoQgPK5bI",
        "outputId": "bd2113b9-e83a-4906-dabd-1cad869bcfff"
      },
      "outputs": [
        {
          "data": {
            "text/plain": [
              "<Axes: xlabel='InvoiceYearMonth', ylabel='CustomerID'>"
            ]
          },
          "execution_count": 29,
          "metadata": {},
          "output_type": "execute_result"
        },
        {
          "data": {
            "image/png": "[encoded data removed]",
            "text/plain": [
              "<Figure size 1500x500 with 1 Axes>"
            ]
          },
          "metadata": {},
          "output_type": "display_data"
        }
      ],
      "source": [
        "# Plot the number of unique customer by YearMonth\n",
        "plt.figure(figsize=(15,5))\n",
        "sns.barplot(data=tx_monthly_active, x=\"InvoiceYearMonth\", y=\"CustomerID\", color = \"salmon\")"
      ]
    },
    {
      "cell_type": "markdown",
      "metadata": {
        "id": "QYdgwLBWOYHr"
      },
      "source": [
        "🙋🏻‍♂️ **DISCUSSION: What can you observe from the chart?**"
      ]
    },
    {
      "cell_type": "markdown",
      "metadata": {
        "id": "Tt0j6ivTkPzc"
      },
      "source": [
        "## 3.2 / New Customer by Time"
      ]
    },
    {
      "cell_type": "markdown",
      "metadata": {
        "id": "nHdVXH9kgJSc"
      },
      "source": [
        "🙋🏻‍♂️ **DISCUSSION: Look into the data entry, how can we know if the customer is a new customer or a returning one?**"
      ]
    },
    {
      "cell_type": "code",
      "execution_count": 30,
      "metadata": {
        "colab": {
          "base_uri": "https://localhost:8080/",
          "height": 388
        },
        "id": "z0DqNxWLK5bL",
        "outputId": "720f43aa-9836-4667-96b7-0edfca229a2c"
      },
      "outputs": [
        {
          "data": {
            "text/html": [
              "<div>\n",
              "<style scoped>\n",
              "    .dataframe tbody tr th:only-of-type {\n",
              "        vertical-align: middle;\n",
              "    }\n",
              "\n",
              "    .dataframe tbody tr th {\n",
              "        vertical-align: top;\n",
              "    }\n",
              "\n",
              "    .dataframe thead th {\n",
              "        text-align: right;\n",
              "    }\n",
              "</style>\n",
              "<table border=\"1\" class=\"dataframe\">\n",
              "  <thead>\n",
              "    <tr style=\"text-align: right;\">\n",
              "      <th></th>\n",
              "      <th>CustomerID</th>\n",
              "      <th>InvoiceDate</th>\n",
              "    </tr>\n",
              "  </thead>\n",
              "  <tbody>\n",
              "    <tr>\n",
              "      <th>0</th>\n",
              "      <td>12346.0</td>\n",
              "      <td>2011-01-18 10:01:00</td>\n",
              "    </tr>\n",
              "    <tr>\n",
              "      <th>1</th>\n",
              "      <td>12747.0</td>\n",
              "      <td>2010-12-05 15:38:00</td>\n",
              "    </tr>\n",
              "    <tr>\n",
              "      <th>2</th>\n",
              "      <td>12748.0</td>\n",
              "      <td>2010-12-01 12:48:00</td>\n",
              "    </tr>\n",
              "    <tr>\n",
              "      <th>3</th>\n",
              "      <td>12749.0</td>\n",
              "      <td>2011-05-10 15:25:00</td>\n",
              "    </tr>\n",
              "    <tr>\n",
              "      <th>4</th>\n",
              "      <td>12820.0</td>\n",
              "      <td>2011-01-17 12:34:00</td>\n",
              "    </tr>\n",
              "    <tr>\n",
              "      <th>...</th>\n",
              "      <td>...</td>\n",
              "      <td>...</td>\n",
              "    </tr>\n",
              "    <tr>\n",
              "      <th>3911</th>\n",
              "      <td>18280.0</td>\n",
              "      <td>2011-03-07 09:52:00</td>\n",
              "    </tr>\n",
              "    <tr>\n",
              "      <th>3912</th>\n",
              "      <td>18281.0</td>\n",
              "      <td>2011-06-12 10:53:00</td>\n",
              "    </tr>\n",
              "    <tr>\n",
              "      <th>3913</th>\n",
              "      <td>18282.0</td>\n",
              "      <td>2011-08-05 13:35:00</td>\n",
              "    </tr>\n",
              "    <tr>\n",
              "      <th>3914</th>\n",
              "      <td>18283.0</td>\n",
              "      <td>2011-01-06 14:14:00</td>\n",
              "    </tr>\n",
              "    <tr>\n",
              "      <th>3915</th>\n",
              "      <td>18287.0</td>\n",
              "      <td>2011-05-22 10:39:00</td>\n",
              "    </tr>\n",
              "  </tbody>\n",
              "</table>\n",
              "<p>3916 rows × 2 columns</p>\n",
              "</div>"
            ],
            "text/plain": [
              "      CustomerID         InvoiceDate\n",
              "0        12346.0 2011-01-18 10:01:00\n",
              "1        12747.0 2010-12-05 15:38:00\n",
              "2        12748.0 2010-12-01 12:48:00\n",
              "3        12749.0 2011-05-10 15:25:00\n",
              "4        12820.0 2011-01-17 12:34:00\n",
              "...          ...                 ...\n",
              "3911     18280.0 2011-03-07 09:52:00\n",
              "3912     18281.0 2011-06-12 10:53:00\n",
              "3913     18282.0 2011-08-05 13:35:00\n",
              "3914     18283.0 2011-01-06 14:14:00\n",
              "3915     18287.0 2011-05-22 10:39:00\n",
              "\n",
              "[3916 rows x 2 columns]"
            ]
          },
          "execution_count": 30,
          "metadata": {},
          "output_type": "execute_result"
        }
      ],
      "source": [
        "# Get the first transaction of each customer\n",
        "tx_min_purchase = tx_uk.groupby(\"CustomerID\")[\"InvoiceDate\"].min().reset_index()\n",
        "tx_min_purchase"
      ]
    },
    {
      "cell_type": "code",
      "execution_count": 31,
      "metadata": {
        "colab": {
          "base_uri": "https://localhost:8080/",
          "height": 388
        },
        "id": "UlwIWI9-K5bL",
        "outputId": "25c72ca5-2911-46ea-c684-b42748e1a694"
      },
      "outputs": [
        {
          "data": {
            "text/html": [
              "<div>\n",
              "<style scoped>\n",
              "    .dataframe tbody tr th:only-of-type {\n",
              "        vertical-align: middle;\n",
              "    }\n",
              "\n",
              "    .dataframe tbody tr th {\n",
              "        vertical-align: top;\n",
              "    }\n",
              "\n",
              "    .dataframe thead th {\n",
              "        text-align: right;\n",
              "    }\n",
              "</style>\n",
              "<table border=\"1\" class=\"dataframe\">\n",
              "  <thead>\n",
              "    <tr style=\"text-align: right;\">\n",
              "      <th></th>\n",
              "      <th>CustomerID</th>\n",
              "      <th>MinPurchaseYearMonth</th>\n",
              "    </tr>\n",
              "  </thead>\n",
              "  <tbody>\n",
              "    <tr>\n",
              "      <th>0</th>\n",
              "      <td>12346.0</td>\n",
              "      <td>2011-01</td>\n",
              "    </tr>\n",
              "    <tr>\n",
              "      <th>1</th>\n",
              "      <td>12747.0</td>\n",
              "      <td>2010-12</td>\n",
              "    </tr>\n",
              "    <tr>\n",
              "      <th>2</th>\n",
              "      <td>12748.0</td>\n",
              "      <td>2010-12</td>\n",
              "    </tr>\n",
              "    <tr>\n",
              "      <th>3</th>\n",
              "      <td>12749.0</td>\n",
              "      <td>2011-05</td>\n",
              "    </tr>\n",
              "    <tr>\n",
              "      <th>4</th>\n",
              "      <td>12820.0</td>\n",
              "      <td>2011-01</td>\n",
              "    </tr>\n",
              "    <tr>\n",
              "      <th>...</th>\n",
              "      <td>...</td>\n",
              "      <td>...</td>\n",
              "    </tr>\n",
              "    <tr>\n",
              "      <th>3911</th>\n",
              "      <td>18280.0</td>\n",
              "      <td>2011-03</td>\n",
              "    </tr>\n",
              "    <tr>\n",
              "      <th>3912</th>\n",
              "      <td>18281.0</td>\n",
              "      <td>2011-06</td>\n",
              "    </tr>\n",
              "    <tr>\n",
              "      <th>3913</th>\n",
              "      <td>18282.0</td>\n",
              "      <td>2011-08</td>\n",
              "    </tr>\n",
              "    <tr>\n",
              "      <th>3914</th>\n",
              "      <td>18283.0</td>\n",
              "      <td>2011-01</td>\n",
              "    </tr>\n",
              "    <tr>\n",
              "      <th>3915</th>\n",
              "      <td>18287.0</td>\n",
              "      <td>2011-05</td>\n",
              "    </tr>\n",
              "  </tbody>\n",
              "</table>\n",
              "<p>3916 rows × 2 columns</p>\n",
              "</div>"
            ],
            "text/plain": [
              "      CustomerID MinPurchaseYearMonth\n",
              "0        12346.0              2011-01\n",
              "1        12747.0              2010-12\n",
              "2        12748.0              2010-12\n",
              "3        12749.0              2011-05\n",
              "4        12820.0              2011-01\n",
              "...          ...                  ...\n",
              "3911     18280.0              2011-03\n",
              "3912     18281.0              2011-06\n",
              "3913     18282.0              2011-08\n",
              "3914     18283.0              2011-01\n",
              "3915     18287.0              2011-05\n",
              "\n",
              "[3916 rows x 2 columns]"
            ]
          },
          "execution_count": 31,
          "metadata": {},
          "output_type": "execute_result"
        }
      ],
      "source": [
        "# Convert the column to Year-Month format and change the column name\n",
        "tx_min_purchase[\"InvoiceDate\"] = tx_min_purchase[\"InvoiceDate\"].dt.to_period(\"M\")\n",
        "tx_min_purchase.columns = [\"CustomerID\",\"MinPurchaseYearMonth\"]\n",
        "tx_min_purchase"
      ]
    },
    {
      "cell_type": "code",
      "execution_count": 32,
      "metadata": {
        "colab": {
          "base_uri": "https://localhost:8080/",
          "height": 189
        },
        "id": "DN8GeKZrK5bM",
        "outputId": "43ca1317-a0f6-49ed-c579-f5c763c2b86f"
      },
      "outputs": [
        {
          "data": {
            "text/html": [
              "<div>\n",
              "<style scoped>\n",
              "    .dataframe tbody tr th:only-of-type {\n",
              "        vertical-align: middle;\n",
              "    }\n",
              "\n",
              "    .dataframe tbody tr th {\n",
              "        vertical-align: top;\n",
              "    }\n",
              "\n",
              "    .dataframe thead th {\n",
              "        text-align: right;\n",
              "    }\n",
              "</style>\n",
              "<table border=\"1\" class=\"dataframe\">\n",
              "  <thead>\n",
              "    <tr style=\"text-align: right;\">\n",
              "      <th></th>\n",
              "      <th>InvoiceNo</th>\n",
              "      <th>StockCode</th>\n",
              "      <th>Description</th>\n",
              "      <th>Quantity</th>\n",
              "      <th>InvoiceDate</th>\n",
              "      <th>UnitPrice</th>\n",
              "      <th>CustomerID</th>\n",
              "      <th>Country</th>\n",
              "      <th>InvoiceYearMonth</th>\n",
              "      <th>Revenue</th>\n",
              "      <th>MinPurchaseYearMonth</th>\n",
              "    </tr>\n",
              "  </thead>\n",
              "  <tbody>\n",
              "    <tr>\n",
              "      <th>0</th>\n",
              "      <td>536365</td>\n",
              "      <td>85123A</td>\n",
              "      <td>WHITE HANGING HEART T-LIGHT HOLDER</td>\n",
              "      <td>6</td>\n",
              "      <td>2010-12-01 08:26:00</td>\n",
              "      <td>2.55</td>\n",
              "      <td>17850.0</td>\n",
              "      <td>United Kingdom</td>\n",
              "      <td>2010-12</td>\n",
              "      <td>15.30</td>\n",
              "      <td>2010-12</td>\n",
              "    </tr>\n",
              "    <tr>\n",
              "      <th>1</th>\n",
              "      <td>536365</td>\n",
              "      <td>71053</td>\n",
              "      <td>WHITE METAL LANTERN</td>\n",
              "      <td>6</td>\n",
              "      <td>2010-12-01 08:26:00</td>\n",
              "      <td>3.39</td>\n",
              "      <td>17850.0</td>\n",
              "      <td>United Kingdom</td>\n",
              "      <td>2010-12</td>\n",
              "      <td>20.34</td>\n",
              "      <td>2010-12</td>\n",
              "    </tr>\n",
              "    <tr>\n",
              "      <th>2</th>\n",
              "      <td>536365</td>\n",
              "      <td>84406B</td>\n",
              "      <td>CREAM CUPID HEARTS COAT HANGER</td>\n",
              "      <td>8</td>\n",
              "      <td>2010-12-01 08:26:00</td>\n",
              "      <td>2.75</td>\n",
              "      <td>17850.0</td>\n",
              "      <td>United Kingdom</td>\n",
              "      <td>2010-12</td>\n",
              "      <td>22.00</td>\n",
              "      <td>2010-12</td>\n",
              "    </tr>\n",
              "    <tr>\n",
              "      <th>3</th>\n",
              "      <td>536365</td>\n",
              "      <td>84029G</td>\n",
              "      <td>KNITTED UNION FLAG HOT WATER BOTTLE</td>\n",
              "      <td>6</td>\n",
              "      <td>2010-12-01 08:26:00</td>\n",
              "      <td>3.39</td>\n",
              "      <td>17850.0</td>\n",
              "      <td>United Kingdom</td>\n",
              "      <td>2010-12</td>\n",
              "      <td>20.34</td>\n",
              "      <td>2010-12</td>\n",
              "    </tr>\n",
              "    <tr>\n",
              "      <th>4</th>\n",
              "      <td>536365</td>\n",
              "      <td>84029E</td>\n",
              "      <td>RED WOOLLY HOTTIE WHITE HEART.</td>\n",
              "      <td>6</td>\n",
              "      <td>2010-12-01 08:26:00</td>\n",
              "      <td>3.39</td>\n",
              "      <td>17850.0</td>\n",
              "      <td>United Kingdom</td>\n",
              "      <td>2010-12</td>\n",
              "      <td>20.34</td>\n",
              "      <td>2010-12</td>\n",
              "    </tr>\n",
              "  </tbody>\n",
              "</table>\n",
              "</div>"
            ],
            "text/plain": [
              "  InvoiceNo StockCode                          Description  Quantity  \\\n",
              "0    536365    85123A   WHITE HANGING HEART T-LIGHT HOLDER         6   \n",
              "1    536365     71053                  WHITE METAL LANTERN         6   \n",
              "2    536365    84406B       CREAM CUPID HEARTS COAT HANGER         8   \n",
              "3    536365    84029G  KNITTED UNION FLAG HOT WATER BOTTLE         6   \n",
              "4    536365    84029E       RED WOOLLY HOTTIE WHITE HEART.         6   \n",
              "\n",
              "          InvoiceDate  UnitPrice  CustomerID         Country InvoiceYearMonth  \\\n",
              "0 2010-12-01 08:26:00       2.55     17850.0  United Kingdom          2010-12   \n",
              "1 2010-12-01 08:26:00       3.39     17850.0  United Kingdom          2010-12   \n",
              "2 2010-12-01 08:26:00       2.75     17850.0  United Kingdom          2010-12   \n",
              "3 2010-12-01 08:26:00       3.39     17850.0  United Kingdom          2010-12   \n",
              "4 2010-12-01 08:26:00       3.39     17850.0  United Kingdom          2010-12   \n",
              "\n",
              "   Revenue MinPurchaseYearMonth  \n",
              "0    15.30              2010-12  \n",
              "1    20.34              2010-12  \n",
              "2    22.00              2010-12  \n",
              "3    20.34              2010-12  \n",
              "4    20.34              2010-12  "
            ]
          },
          "execution_count": 32,
          "metadata": {},
          "output_type": "execute_result"
        }
      ],
      "source": [
        "# Merge the tx_min_purchase table with the main one tx_uk\n",
        "pd.merge(tx_uk, tx_min_purchase, on=\"CustomerID\", how=\"inner\")\n",
        "tx_uk = pd.merge(tx_uk, tx_min_purchase, on=\"CustomerID\", how=\"inner\")\n",
        "tx_uk.head()"
      ]
    },
    {
      "cell_type": "code",
      "execution_count": 33,
      "metadata": {},
      "outputs": [
        {
          "data": {
            "text/plain": [
              "InvoiceNo               0\n",
              "StockCode               0\n",
              "Description             0\n",
              "Quantity                0\n",
              "InvoiceDate             0\n",
              "UnitPrice               0\n",
              "CustomerID              0\n",
              "Country                 0\n",
              "InvoiceYearMonth        0\n",
              "Revenue                 0\n",
              "MinPurchaseYearMonth    0\n",
              "dtype: int64"
            ]
          },
          "execution_count": 33,
          "metadata": {},
          "output_type": "execute_result"
        }
      ],
      "source": [
        "tx_uk.isna().sum()"
      ]
    },
    {
      "cell_type": "code",
      "execution_count": null,
      "metadata": {},
      "outputs": [],
      "source": []
    },
    {
      "cell_type": "code",
      "execution_count": 34,
      "metadata": {
        "id": "QrmCushsK5bM"
      },
      "outputs": [
        {
          "data": {
            "text/html": [
              "<div>\n",
              "<style scoped>\n",
              "    .dataframe tbody tr th:only-of-type {\n",
              "        vertical-align: middle;\n",
              "    }\n",
              "\n",
              "    .dataframe tbody tr th {\n",
              "        vertical-align: top;\n",
              "    }\n",
              "\n",
              "    .dataframe thead th {\n",
              "        text-align: right;\n",
              "    }\n",
              "</style>\n",
              "<table border=\"1\" class=\"dataframe\">\n",
              "  <thead>\n",
              "    <tr style=\"text-align: right;\">\n",
              "      <th></th>\n",
              "      <th>InvoiceNo</th>\n",
              "      <th>StockCode</th>\n",
              "      <th>Description</th>\n",
              "      <th>Quantity</th>\n",
              "      <th>InvoiceDate</th>\n",
              "      <th>UnitPrice</th>\n",
              "      <th>CustomerID</th>\n",
              "      <th>Country</th>\n",
              "      <th>InvoiceYearMonth</th>\n",
              "      <th>Revenue</th>\n",
              "      <th>MinPurchaseYearMonth</th>\n",
              "      <th>UserType</th>\n",
              "    </tr>\n",
              "  </thead>\n",
              "  <tbody>\n",
              "    <tr>\n",
              "      <th>0</th>\n",
              "      <td>536365</td>\n",
              "      <td>85123A</td>\n",
              "      <td>WHITE HANGING HEART T-LIGHT HOLDER</td>\n",
              "      <td>6</td>\n",
              "      <td>2010-12-01 08:26:00</td>\n",
              "      <td>2.55</td>\n",
              "      <td>17850.0</td>\n",
              "      <td>United Kingdom</td>\n",
              "      <td>2010-12</td>\n",
              "      <td>15.30</td>\n",
              "      <td>2010-12</td>\n",
              "      <td>New</td>\n",
              "    </tr>\n",
              "    <tr>\n",
              "      <th>1</th>\n",
              "      <td>536365</td>\n",
              "      <td>71053</td>\n",
              "      <td>WHITE METAL LANTERN</td>\n",
              "      <td>6</td>\n",
              "      <td>2010-12-01 08:26:00</td>\n",
              "      <td>3.39</td>\n",
              "      <td>17850.0</td>\n",
              "      <td>United Kingdom</td>\n",
              "      <td>2010-12</td>\n",
              "      <td>20.34</td>\n",
              "      <td>2010-12</td>\n",
              "      <td>New</td>\n",
              "    </tr>\n",
              "    <tr>\n",
              "      <th>2</th>\n",
              "      <td>536365</td>\n",
              "      <td>84406B</td>\n",
              "      <td>CREAM CUPID HEARTS COAT HANGER</td>\n",
              "      <td>8</td>\n",
              "      <td>2010-12-01 08:26:00</td>\n",
              "      <td>2.75</td>\n",
              "      <td>17850.0</td>\n",
              "      <td>United Kingdom</td>\n",
              "      <td>2010-12</td>\n",
              "      <td>22.00</td>\n",
              "      <td>2010-12</td>\n",
              "      <td>New</td>\n",
              "    </tr>\n",
              "    <tr>\n",
              "      <th>3</th>\n",
              "      <td>536365</td>\n",
              "      <td>84029G</td>\n",
              "      <td>KNITTED UNION FLAG HOT WATER BOTTLE</td>\n",
              "      <td>6</td>\n",
              "      <td>2010-12-01 08:26:00</td>\n",
              "      <td>3.39</td>\n",
              "      <td>17850.0</td>\n",
              "      <td>United Kingdom</td>\n",
              "      <td>2010-12</td>\n",
              "      <td>20.34</td>\n",
              "      <td>2010-12</td>\n",
              "      <td>New</td>\n",
              "    </tr>\n",
              "    <tr>\n",
              "      <th>4</th>\n",
              "      <td>536365</td>\n",
              "      <td>84029E</td>\n",
              "      <td>RED WOOLLY HOTTIE WHITE HEART.</td>\n",
              "      <td>6</td>\n",
              "      <td>2010-12-01 08:26:00</td>\n",
              "      <td>3.39</td>\n",
              "      <td>17850.0</td>\n",
              "      <td>United Kingdom</td>\n",
              "      <td>2010-12</td>\n",
              "      <td>20.34</td>\n",
              "      <td>2010-12</td>\n",
              "      <td>New</td>\n",
              "    </tr>\n",
              "  </tbody>\n",
              "</table>\n",
              "</div>"
            ],
            "text/plain": [
              "  InvoiceNo StockCode                          Description  Quantity  \\\n",
              "0    536365    85123A   WHITE HANGING HEART T-LIGHT HOLDER         6   \n",
              "1    536365     71053                  WHITE METAL LANTERN         6   \n",
              "2    536365    84406B       CREAM CUPID HEARTS COAT HANGER         8   \n",
              "3    536365    84029G  KNITTED UNION FLAG HOT WATER BOTTLE         6   \n",
              "4    536365    84029E       RED WOOLLY HOTTIE WHITE HEART.         6   \n",
              "\n",
              "          InvoiceDate  UnitPrice  CustomerID         Country InvoiceYearMonth  \\\n",
              "0 2010-12-01 08:26:00       2.55     17850.0  United Kingdom          2010-12   \n",
              "1 2010-12-01 08:26:00       3.39     17850.0  United Kingdom          2010-12   \n",
              "2 2010-12-01 08:26:00       2.75     17850.0  United Kingdom          2010-12   \n",
              "3 2010-12-01 08:26:00       3.39     17850.0  United Kingdom          2010-12   \n",
              "4 2010-12-01 08:26:00       3.39     17850.0  United Kingdom          2010-12   \n",
              "\n",
              "   Revenue MinPurchaseYearMonth UserType  \n",
              "0    15.30              2010-12      New  \n",
              "1    20.34              2010-12      New  \n",
              "2    22.00              2010-12      New  \n",
              "3    20.34              2010-12      New  \n",
              "4    20.34              2010-12      New  "
            ]
          },
          "execution_count": 34,
          "metadata": {},
          "output_type": "execute_result"
        }
      ],
      "source": [
        "# Compute a new column named UserType that\n",
        "# If the transaction has InvoiceYearMonth = MinPurchaseYearMonth --> New\n",
        "# If the transaction has InvoiceYearMonth > MinPurchaseYearMonth --> Existing\n",
        "def check_type(row):\n",
        "    if row[\"InvoiceYearMonth\"] == row[\"MinPurchaseYearMonth\"]:\n",
        "        return \"New\"\n",
        "    elif row[\"InvoiceYearMonth\"] > row[\"MinPurchaseYearMonth\"]:\n",
        "        return \"Existing\"\n",
        "tx_uk[\"UserType\"] = tx_uk[[\"InvoiceYearMonth\",\"MinPurchaseYearMonth\"]].apply(check_type,axis=1)\n",
        "tx_uk.head()"
      ]
    },
    {
      "cell_type": "code",
      "execution_count": 35,
      "metadata": {},
      "outputs": [],
      "source": [
        "tx_uk.loc[\n",
        "    tx_uk[\"InvoiceYearMonth\"] > tx_uk[\"MinPurchaseYearMonth\"], \"UserType\"\n",
        "] = \"Existing\""
      ]
    },
    {
      "cell_type": "code",
      "execution_count": 36,
      "metadata": {
        "colab": {
          "base_uri": "https://localhost:8080/"
        },
        "id": "zV2LtddYK5bM",
        "outputId": "1f4d046f-9b32-4ae7-dc3a-2d552b6c0193"
      },
      "outputs": [
        {
          "data": {
            "text/plain": [
              "UserType\n",
              "Existing    240890\n",
              "New         104911\n",
              "Name: count, dtype: int64"
            ]
          },
          "execution_count": 36,
          "metadata": {},
          "output_type": "execute_result"
        }
      ],
      "source": [
        "# You should have the same return as this one when running .value_counts()\n",
        "tx_uk['UserType'].value_counts()"
      ]
    },
    {
      "cell_type": "markdown",
      "metadata": {
        "id": "vv-AVu1ellT_"
      },
      "source": [
        "Compared to the number of existing customer, the number of new customer declined steadily since Jan 2011 but start to pick up again recently."
      ]
    },
    {
      "cell_type": "code",
      "execution_count": 37,
      "metadata": {
        "id": "vTmvJxflRiwc"
      },
      "outputs": [
        {
          "data": {
            "text/plain": [
              "InvoiceYearMonth\n",
              "2010-12    871\n",
              "2011-01    362\n",
              "2011-02    339\n",
              "2011-03    408\n",
              "2011-04    276\n",
              "2011-05    252\n",
              "2011-06    207\n",
              "2011-07    172\n",
              "2011-08    140\n",
              "2011-09    275\n",
              "2011-10    318\n",
              "2011-11    296\n",
              "Freq: M, Name: CustomerID, dtype: int64"
            ]
          },
          "execution_count": 37,
          "metadata": {},
          "output_type": "execute_result"
        }
      ],
      "source": [
        "# Compute the number of UNIQUE NEW customers by year-month.\n",
        "new_customer_by_time = (tx_uk[tx_uk[\"UserType\"]==\"New\"].groupby(\"InvoiceYearMonth\")[\"CustomerID\"].nunique())\n",
        "new_customer_by_time"
      ]
    },
    {
      "cell_type": "code",
      "execution_count": 38,
      "metadata": {
        "id": "4nxr0mMlRuOz"
      },
      "outputs": [
        {
          "data": {
            "text/plain": [
              "InvoiceYearMonth\n",
              "2011-01     322\n",
              "2011-02     375\n",
              "2011-03     515\n",
              "2011-04     541\n",
              "2011-05     733\n",
              "2011-06     736\n",
              "2011-07     727\n",
              "2011-08     727\n",
              "2011-09     902\n",
              "2011-10     967\n",
              "2011-11    1252\n",
              "Freq: M, Name: CustomerID, dtype: int64"
            ]
          },
          "execution_count": 38,
          "metadata": {},
          "output_type": "execute_result"
        }
      ],
      "source": [
        "# Compute the number of UNIQUE EXISTING customers by year-month.\n",
        "existing_customer_by_time = (tx_uk[tx_uk[\"UserType\"]==\"Existing\"].groupby(\"InvoiceYearMonth\")[\"CustomerID\"].nunique())\n",
        "existing_customer_by_time"
      ]
    },
    {
      "cell_type": "code",
      "execution_count": 39,
      "metadata": {
        "id": "PP1TEVKAK5bN"
      },
      "outputs": [],
      "source": [
        "# From the two tables above, compute the ratio of unique new customers / unique existing customers by year-month\n",
        "tx_user_ratio = new_customer_by_time / existing_customer_by_time"
      ]
    },
    {
      "cell_type": "code",
      "execution_count": 40,
      "metadata": {
        "colab": {
          "base_uri": "https://localhost:8080/",
          "height": 388
        },
        "id": "fvdyMZWDRbSk",
        "outputId": "4194fd7e-aeed-4826-df50-a8f631e3143a"
      },
      "outputs": [
        {
          "data": {
            "text/html": [
              "<div>\n",
              "<style scoped>\n",
              "    .dataframe tbody tr th:only-of-type {\n",
              "        vertical-align: middle;\n",
              "    }\n",
              "\n",
              "    .dataframe tbody tr th {\n",
              "        vertical-align: top;\n",
              "    }\n",
              "\n",
              "    .dataframe thead th {\n",
              "        text-align: right;\n",
              "    }\n",
              "</style>\n",
              "<table border=\"1\" class=\"dataframe\">\n",
              "  <thead>\n",
              "    <tr style=\"text-align: right;\">\n",
              "      <th></th>\n",
              "      <th>InvoiceYearMonth</th>\n",
              "      <th>UserTypeRatio</th>\n",
              "    </tr>\n",
              "  </thead>\n",
              "  <tbody>\n",
              "    <tr>\n",
              "      <th>0</th>\n",
              "      <td>2010-12</td>\n",
              "      <td>NaN</td>\n",
              "    </tr>\n",
              "    <tr>\n",
              "      <th>1</th>\n",
              "      <td>2011-01</td>\n",
              "      <td>1.124224</td>\n",
              "    </tr>\n",
              "    <tr>\n",
              "      <th>2</th>\n",
              "      <td>2011-02</td>\n",
              "      <td>0.904000</td>\n",
              "    </tr>\n",
              "    <tr>\n",
              "      <th>3</th>\n",
              "      <td>2011-03</td>\n",
              "      <td>0.792233</td>\n",
              "    </tr>\n",
              "    <tr>\n",
              "      <th>4</th>\n",
              "      <td>2011-04</td>\n",
              "      <td>0.510166</td>\n",
              "    </tr>\n",
              "    <tr>\n",
              "      <th>5</th>\n",
              "      <td>2011-05</td>\n",
              "      <td>0.343793</td>\n",
              "    </tr>\n",
              "    <tr>\n",
              "      <th>6</th>\n",
              "      <td>2011-06</td>\n",
              "      <td>0.281250</td>\n",
              "    </tr>\n",
              "    <tr>\n",
              "      <th>7</th>\n",
              "      <td>2011-07</td>\n",
              "      <td>0.236589</td>\n",
              "    </tr>\n",
              "    <tr>\n",
              "      <th>8</th>\n",
              "      <td>2011-08</td>\n",
              "      <td>0.192572</td>\n",
              "    </tr>\n",
              "    <tr>\n",
              "      <th>9</th>\n",
              "      <td>2011-09</td>\n",
              "      <td>0.304878</td>\n",
              "    </tr>\n",
              "    <tr>\n",
              "      <th>10</th>\n",
              "      <td>2011-10</td>\n",
              "      <td>0.328852</td>\n",
              "    </tr>\n",
              "    <tr>\n",
              "      <th>11</th>\n",
              "      <td>2011-11</td>\n",
              "      <td>0.236422</td>\n",
              "    </tr>\n",
              "  </tbody>\n",
              "</table>\n",
              "</div>"
            ],
            "text/plain": [
              "   InvoiceYearMonth  UserTypeRatio\n",
              "0           2010-12            NaN\n",
              "1           2011-01       1.124224\n",
              "2           2011-02       0.904000\n",
              "3           2011-03       0.792233\n",
              "4           2011-04       0.510166\n",
              "5           2011-05       0.343793\n",
              "6           2011-06       0.281250\n",
              "7           2011-07       0.236589\n",
              "8           2011-08       0.192572\n",
              "9           2011-09       0.304878\n",
              "10          2011-10       0.328852\n",
              "11          2011-11       0.236422"
            ]
          },
          "execution_count": 40,
          "metadata": {},
          "output_type": "execute_result"
        }
      ],
      "source": [
        "# You should get ther same result as this\n",
        "tx_user_ratio = new_customer_by_time / existing_customer_by_time\n",
        "tx_user_ratio = tx_user_ratio.reset_index()\n",
        "tx_user_ratio.columns = [\"InvoiceYearMonth\", \"UserTypeRatio\"]\n",
        "tx_user_ratio\n"
      ]
    },
    {
      "cell_type": "markdown",
      "metadata": {
        "id": "a19a7jrTlPZX"
      },
      "source": [
        "🙋🏻‍♂️ **DISCUSSION: Why is there a NaN value at the first row?**"
      ]
    },
    {
      "cell_type": "code",
      "execution_count": 41,
      "metadata": {
        "id": "HWe9KxQ7lYUj"
      },
      "outputs": [],
      "source": [
        "tx_user_ratio = tx_user_ratio.dropna()"
      ]
    },
    {
      "cell_type": "code",
      "execution_count": 42,
      "metadata": {
        "colab": {
          "base_uri": "https://localhost:8080/",
          "height": 334
        },
        "id": "vdBVT4Hhz0E7",
        "outputId": "d06b3ddb-e96b-4897-8120-1b5a52726dfb"
      },
      "outputs": [
        {
          "data": {
            "text/plain": [
              "Text(0.5, 0, 'Time')"
            ]
          },
          "execution_count": 42,
          "metadata": {},
          "output_type": "execute_result"
        },
        {
          "data": {
            "image/png": "[encoded data removed]",
            "text/plain": [
              "<Figure size 1500x500 with 1 Axes>"
            ]
          },
          "metadata": {},
          "output_type": "display_data"
        }
      ],
      "source": [
        "# Visualize the table above with a bar chart\n",
        "# YOUR CODE HERE\n",
        "\n",
        "plt.figure(figsize=(15,5))\n",
        "sns.barplot(data= tx_user_ratio, x=\"InvoiceYearMonth\", y=\"UserTypeRatio\",color=\"salmon\")\n",
        "plt.ylabel(\"New Customer Ratio\")\n",
        "plt.xlabel(\"Time\")"
      ]
    },
    {
      "cell_type": "markdown",
      "metadata": {
        "id": "tJ5gNPx6K5bL"
      },
      "source": [
        "## 3.3 / Revenue Made By New vs Existing Users"
      ]
    },
    {
      "cell_type": "code",
      "execution_count": 43,
      "metadata": {
        "colab": {
          "base_uri": "https://localhost:8080/",
          "height": 702
        },
        "id": "0ypN2oI0K5bN",
        "outputId": "da1f5fad-7c39-4d77-91b4-1d0030a7c3d9"
      },
      "outputs": [
        {
          "data": {
            "text/html": [
              "<div>\n",
              "<style scoped>\n",
              "    .dataframe tbody tr th:only-of-type {\n",
              "        vertical-align: middle;\n",
              "    }\n",
              "\n",
              "    .dataframe tbody tr th {\n",
              "        vertical-align: top;\n",
              "    }\n",
              "\n",
              "    .dataframe thead th {\n",
              "        text-align: right;\n",
              "    }\n",
              "</style>\n",
              "<table border=\"1\" class=\"dataframe\">\n",
              "  <thead>\n",
              "    <tr style=\"text-align: right;\">\n",
              "      <th></th>\n",
              "      <th>InvoiceYearMonth</th>\n",
              "      <th>UserType</th>\n",
              "      <th>Revenue</th>\n",
              "    </tr>\n",
              "  </thead>\n",
              "  <tbody>\n",
              "    <tr>\n",
              "      <th>0</th>\n",
              "      <td>2010-12</td>\n",
              "      <td>New</td>\n",
              "      <td>483799.740</td>\n",
              "    </tr>\n",
              "    <tr>\n",
              "      <th>1</th>\n",
              "      <td>2011-01</td>\n",
              "      <td>Existing</td>\n",
              "      <td>195275.510</td>\n",
              "    </tr>\n",
              "    <tr>\n",
              "      <th>2</th>\n",
              "      <td>2011-01</td>\n",
              "      <td>New</td>\n",
              "      <td>156705.770</td>\n",
              "    </tr>\n",
              "    <tr>\n",
              "      <th>3</th>\n",
              "      <td>2011-02</td>\n",
              "      <td>Existing</td>\n",
              "      <td>220994.630</td>\n",
              "    </tr>\n",
              "    <tr>\n",
              "      <th>4</th>\n",
              "      <td>2011-02</td>\n",
              "      <td>New</td>\n",
              "      <td>127859.000</td>\n",
              "    </tr>\n",
              "    <tr>\n",
              "      <th>5</th>\n",
              "      <td>2011-03</td>\n",
              "      <td>Existing</td>\n",
              "      <td>296350.030</td>\n",
              "    </tr>\n",
              "    <tr>\n",
              "      <th>6</th>\n",
              "      <td>2011-03</td>\n",
              "      <td>New</td>\n",
              "      <td>160567.840</td>\n",
              "    </tr>\n",
              "    <tr>\n",
              "      <th>7</th>\n",
              "      <td>2011-04</td>\n",
              "      <td>Existing</td>\n",
              "      <td>268226.660</td>\n",
              "    </tr>\n",
              "    <tr>\n",
              "      <th>8</th>\n",
              "      <td>2011-04</td>\n",
              "      <td>New</td>\n",
              "      <td>108517.751</td>\n",
              "    </tr>\n",
              "    <tr>\n",
              "      <th>9</th>\n",
              "      <td>2011-05</td>\n",
              "      <td>Existing</td>\n",
              "      <td>434725.860</td>\n",
              "    </tr>\n",
              "    <tr>\n",
              "      <th>10</th>\n",
              "      <td>2011-05</td>\n",
              "      <td>New</td>\n",
              "      <td>90847.490</td>\n",
              "    </tr>\n",
              "    <tr>\n",
              "      <th>11</th>\n",
              "      <td>2011-06</td>\n",
              "      <td>Existing</td>\n",
              "      <td>408030.060</td>\n",
              "    </tr>\n",
              "    <tr>\n",
              "      <th>12</th>\n",
              "      <td>2011-06</td>\n",
              "      <td>New</td>\n",
              "      <td>64479.190</td>\n",
              "    </tr>\n",
              "    <tr>\n",
              "      <th>13</th>\n",
              "      <td>2011-07</td>\n",
              "      <td>Existing</td>\n",
              "      <td>407693.610</td>\n",
              "    </tr>\n",
              "    <tr>\n",
              "      <th>14</th>\n",
              "      <td>2011-07</td>\n",
              "      <td>New</td>\n",
              "      <td>53453.991</td>\n",
              "    </tr>\n",
              "    <tr>\n",
              "      <th>15</th>\n",
              "      <td>2011-08</td>\n",
              "      <td>Existing</td>\n",
              "      <td>421388.930</td>\n",
              "    </tr>\n",
              "    <tr>\n",
              "      <th>16</th>\n",
              "      <td>2011-08</td>\n",
              "      <td>New</td>\n",
              "      <td>55619.480</td>\n",
              "    </tr>\n",
              "    <tr>\n",
              "      <th>17</th>\n",
              "      <td>2011-09</td>\n",
              "      <td>Existing</td>\n",
              "      <td>640861.901</td>\n",
              "    </tr>\n",
              "    <tr>\n",
              "      <th>18</th>\n",
              "      <td>2011-09</td>\n",
              "      <td>New</td>\n",
              "      <td>135667.941</td>\n",
              "    </tr>\n",
              "    <tr>\n",
              "      <th>19</th>\n",
              "      <td>2011-10</td>\n",
              "      <td>Existing</td>\n",
              "      <td>648837.600</td>\n",
              "    </tr>\n",
              "    <tr>\n",
              "      <th>20</th>\n",
              "      <td>2011-10</td>\n",
              "      <td>New</td>\n",
              "      <td>133940.280</td>\n",
              "    </tr>\n",
              "    <tr>\n",
              "      <th>21</th>\n",
              "      <td>2011-11</td>\n",
              "      <td>Existing</td>\n",
              "      <td>838955.910</td>\n",
              "    </tr>\n",
              "    <tr>\n",
              "      <th>22</th>\n",
              "      <td>2011-11</td>\n",
              "      <td>New</td>\n",
              "      <td>117153.750</td>\n",
              "    </tr>\n",
              "  </tbody>\n",
              "</table>\n",
              "</div>"
            ],
            "text/plain": [
              "   InvoiceYearMonth  UserType     Revenue\n",
              "0           2010-12       New  483799.740\n",
              "1           2011-01  Existing  195275.510\n",
              "2           2011-01       New  156705.770\n",
              "3           2011-02  Existing  220994.630\n",
              "4           2011-02       New  127859.000\n",
              "5           2011-03  Existing  296350.030\n",
              "6           2011-03       New  160567.840\n",
              "7           2011-04  Existing  268226.660\n",
              "8           2011-04       New  108517.751\n",
              "9           2011-05  Existing  434725.860\n",
              "10          2011-05       New   90847.490\n",
              "11          2011-06  Existing  408030.060\n",
              "12          2011-06       New   64479.190\n",
              "13          2011-07  Existing  407693.610\n",
              "14          2011-07       New   53453.991\n",
              "15          2011-08  Existing  421388.930\n",
              "16          2011-08       New   55619.480\n",
              "17          2011-09  Existing  640861.901\n",
              "18          2011-09       New  135667.941\n",
              "19          2011-10  Existing  648837.600\n",
              "20          2011-10       New  133940.280\n",
              "21          2011-11  Existing  838955.910\n",
              "22          2011-11       New  117153.750"
            ]
          },
          "execution_count": 43,
          "metadata": {},
          "output_type": "execute_result"
        }
      ],
      "source": [
        "# Compute the Total Revenue by Year-Month and UserType\n",
        "tx_user_type_revenue = tx_uk.groupby([\"InvoiceYearMonth\",\"UserType\"])[\"Revenue\"].sum().reset_index()\n",
        "tx_user_type_revenue"
      ]
    },
    {
      "cell_type": "code",
      "execution_count": 44,
      "metadata": {
        "colab": {
          "base_uri": "https://localhost:8080/",
          "height": 334
        },
        "id": "Tw4hHi9XK5bN",
        "outputId": "11d17a67-fbf9-44e8-cb7b-61b68b2d0049"
      },
      "outputs": [
        {
          "data": {
            "text/plain": [
              "<Axes: xlabel='InvoiceYearMonth', ylabel='Revenue'>"
            ]
          },
          "execution_count": 44,
          "metadata": {},
          "output_type": "execute_result"
        },
        {
          "data": {
            "image/png": "[encoded data removed]",
            "text/plain": [
              "<Figure size 1500x500 with 1 Axes>"
            ]
          },
          "metadata": {},
          "output_type": "display_data"
        }
      ],
      "source": [
        "# Visualize the dataframe above with a line chart\n",
        "# ❗️Tip: If you use Seaborn for plotting, convert Invoice Year Month into string first.\n",
        "tx_user_type_revenue['InvoiceYearMonth'] = tx_user_type_revenue['InvoiceYearMonth'].astype('string')\n",
        "\n",
        "plt.figure(figsize=(15,5))\n",
        "sns.lineplot(data=tx_user_type_revenue, x=\"InvoiceYearMonth\",y=\"Revenue\", hue=\"UserType\")"
      ]
    },
    {
      "cell_type": "markdown",
      "metadata": {
        "id": "So3GrU0XjpLp"
      },
      "source": [
        "🙋🏻‍♂️ **DISCUSSION: What can we intepret from this graph?**"
      ]
    },
    {
      "cell_type": "markdown",
      "metadata": {
        "id": "EF-mTudLK5bS"
      },
      "source": [
        "## 3.4 / Monthly Retention Rate"
      ]
    },
    {
      "cell_type": "code",
      "execution_count": null,
      "metadata": {
        "colab": {
          "base_uri": "https://localhost:8080/",
          "height": 189
        },
        "id": "7imkxHp5K5bS",
        "outputId": "9d76d285-f00c-4692-ee7f-b8f843169ed0"
      },
      "outputs": [],
      "source": [
        "# Preview the data from UK one more time\n",
        "tx_uk.drop(columns= [\"MinPurchaseYearMonth_x\",\"MinPurchaseYearMonth_y\"],inplace=True)\n",
        "tx_uk.head()"
      ]
    },
    {
      "cell_type": "code",
      "execution_count": null,
      "metadata": {
        "colab": {
          "base_uri": "https://localhost:8080/",
          "height": 388
        },
        "id": "ZUoWCzakK5bS",
        "outputId": "98751695-728f-4280-f93c-bf91d00e7a52"
      },
      "outputs": [
        {
          "data": {
            "text/html": [
              "<div>\n",
              "<style scoped>\n",
              "    .dataframe tbody tr th:only-of-type {\n",
              "        vertical-align: middle;\n",
              "    }\n",
              "\n",
              "    .dataframe tbody tr th {\n",
              "        vertical-align: top;\n",
              "    }\n",
              "\n",
              "    .dataframe thead th {\n",
              "        text-align: right;\n",
              "    }\n",
              "</style>\n",
              "<table border=\"1\" class=\"dataframe\">\n",
              "  <thead>\n",
              "    <tr style=\"text-align: right;\">\n",
              "      <th></th>\n",
              "      <th>CustomerID</th>\n",
              "      <th>InvoiceYearMonth</th>\n",
              "      <th>Revenue</th>\n",
              "    </tr>\n",
              "  </thead>\n",
              "  <tbody>\n",
              "    <tr>\n",
              "      <th>0</th>\n",
              "      <td>12346.0</td>\n",
              "      <td>2011-01</td>\n",
              "      <td>0.00</td>\n",
              "    </tr>\n",
              "    <tr>\n",
              "      <th>1</th>\n",
              "      <td>12747.0</td>\n",
              "      <td>2010-12</td>\n",
              "      <td>706.27</td>\n",
              "    </tr>\n",
              "    <tr>\n",
              "      <th>2</th>\n",
              "      <td>12747.0</td>\n",
              "      <td>2011-01</td>\n",
              "      <td>303.04</td>\n",
              "    </tr>\n",
              "    <tr>\n",
              "      <th>3</th>\n",
              "      <td>12747.0</td>\n",
              "      <td>2011-03</td>\n",
              "      <td>310.78</td>\n",
              "    </tr>\n",
              "    <tr>\n",
              "      <th>4</th>\n",
              "      <td>12747.0</td>\n",
              "      <td>2011-05</td>\n",
              "      <td>771.31</td>\n",
              "    </tr>\n",
              "    <tr>\n",
              "      <th>...</th>\n",
              "      <td>...</td>\n",
              "      <td>...</td>\n",
              "      <td>...</td>\n",
              "    </tr>\n",
              "    <tr>\n",
              "      <th>11708</th>\n",
              "      <td>18283.0</td>\n",
              "      <td>2011-09</td>\n",
              "      <td>134.90</td>\n",
              "    </tr>\n",
              "    <tr>\n",
              "      <th>11709</th>\n",
              "      <td>18283.0</td>\n",
              "      <td>2011-10</td>\n",
              "      <td>114.65</td>\n",
              "    </tr>\n",
              "    <tr>\n",
              "      <th>11710</th>\n",
              "      <td>18283.0</td>\n",
              "      <td>2011-11</td>\n",
              "      <td>651.56</td>\n",
              "    </tr>\n",
              "    <tr>\n",
              "      <th>11711</th>\n",
              "      <td>18287.0</td>\n",
              "      <td>2011-05</td>\n",
              "      <td>765.28</td>\n",
              "    </tr>\n",
              "    <tr>\n",
              "      <th>11712</th>\n",
              "      <td>18287.0</td>\n",
              "      <td>2011-10</td>\n",
              "      <td>1072.00</td>\n",
              "    </tr>\n",
              "  </tbody>\n",
              "</table>\n",
              "<p>11713 rows × 3 columns</p>\n",
              "</div>"
            ],
            "text/plain": [
              "       CustomerID InvoiceYearMonth  Revenue\n",
              "0         12346.0          2011-01     0.00\n",
              "1         12747.0          2010-12   706.27\n",
              "2         12747.0          2011-01   303.04\n",
              "3         12747.0          2011-03   310.78\n",
              "4         12747.0          2011-05   771.31\n",
              "...           ...              ...      ...\n",
              "11708     18283.0          2011-09   134.90\n",
              "11709     18283.0          2011-10   114.65\n",
              "11710     18283.0          2011-11   651.56\n",
              "11711     18287.0          2011-05   765.28\n",
              "11712     18287.0          2011-10  1072.00\n",
              "\n",
              "[11713 rows x 3 columns]"
            ]
          },
          "execution_count": 89,
          "metadata": {},
          "output_type": "execute_result"
        }
      ],
      "source": [
        "# Calculate revenue made by each CustomerID each month\n",
        "tx_user_purchase = (tx_uk.groupby([\"CustomerID\",\"InvoiceYearMonth\"])[\"Revenue\"].sum().reset_index())\n",
        "tx_user_purchase"
      ]
    },
    {
      "cell_type": "code",
      "execution_count": null,
      "metadata": {},
      "outputs": [
        {
          "data": {
            "text/html": [
              "<div>\n",
              "<style scoped>\n",
              "    .dataframe tbody tr th:only-of-type {\n",
              "        vertical-align: middle;\n",
              "    }\n",
              "\n",
              "    .dataframe tbody tr th {\n",
              "        vertical-align: top;\n",
              "    }\n",
              "\n",
              "    .dataframe thead th {\n",
              "        text-align: right;\n",
              "    }\n",
              "</style>\n",
              "<table border=\"1\" class=\"dataframe\">\n",
              "  <thead>\n",
              "    <tr style=\"text-align: right;\">\n",
              "      <th></th>\n",
              "      <th>InvoiceNo</th>\n",
              "      <th>StockCode</th>\n",
              "      <th>Description</th>\n",
              "      <th>Quantity</th>\n",
              "      <th>InvoiceDate</th>\n",
              "      <th>UnitPrice</th>\n",
              "      <th>CustomerID</th>\n",
              "      <th>Country</th>\n",
              "      <th>InvoiceYearMonth</th>\n",
              "      <th>Revenue</th>\n",
              "      <th>UserType</th>\n",
              "      <th>MinPurchaseYearMonth</th>\n",
              "    </tr>\n",
              "  </thead>\n",
              "  <tbody>\n",
              "    <tr>\n",
              "      <th>172108</th>\n",
              "      <td>541431</td>\n",
              "      <td>23166</td>\n",
              "      <td>MEDIUM CERAMIC TOP STORAGE JAR</td>\n",
              "      <td>74215</td>\n",
              "      <td>2011-01-18 10:01:00</td>\n",
              "      <td>1.04</td>\n",
              "      <td>12346.0</td>\n",
              "      <td>United Kingdom</td>\n",
              "      <td>2011-01</td>\n",
              "      <td>77183.6</td>\n",
              "      <td>New</td>\n",
              "      <td>2011-01</td>\n",
              "    </tr>\n",
              "    <tr>\n",
              "      <th>172109</th>\n",
              "      <td>C541433</td>\n",
              "      <td>23166</td>\n",
              "      <td>MEDIUM CERAMIC TOP STORAGE JAR</td>\n",
              "      <td>-74215</td>\n",
              "      <td>2011-01-18 10:17:00</td>\n",
              "      <td>1.04</td>\n",
              "      <td>12346.0</td>\n",
              "      <td>United Kingdom</td>\n",
              "      <td>2011-01</td>\n",
              "      <td>-77183.6</td>\n",
              "      <td>New</td>\n",
              "      <td>2011-01</td>\n",
              "    </tr>\n",
              "  </tbody>\n",
              "</table>\n",
              "</div>"
            ],
            "text/plain": [
              "       InvoiceNo StockCode                     Description  Quantity  \\\n",
              "172108    541431     23166  MEDIUM CERAMIC TOP STORAGE JAR     74215   \n",
              "172109   C541433     23166  MEDIUM CERAMIC TOP STORAGE JAR    -74215   \n",
              "\n",
              "               InvoiceDate  UnitPrice  CustomerID         Country  \\\n",
              "172108 2011-01-18 10:01:00       1.04     12346.0  United Kingdom   \n",
              "172109 2011-01-18 10:17:00       1.04     12346.0  United Kingdom   \n",
              "\n",
              "       InvoiceYearMonth  Revenue UserType MinPurchaseYearMonth  \n",
              "172108          2011-01  77183.6      New              2011-01  \n",
              "172109          2011-01 -77183.6      New              2011-01  "
            ]
          },
          "execution_count": 98,
          "metadata": {},
          "output_type": "execute_result"
        }
      ],
      "source": [
        "tx_uk[tx_uk[\"CustomerID\"]==12346.0]"
      ]
    },
    {
      "cell_type": "markdown",
      "metadata": {
        "id": "gzQwvkBy1BKD"
      },
      "source": [
        "Retention rate should be monitored very closely because it indicates how sticky is your service and how well your product fits the market. For making Monthly Retention Rate visualized, we need to calculate how many customers retained from previous month.\n",
        "\n",
        "`Monthly Retention Rate = Retained Customers From Prev. Month / Active Customers Total`"
      ]
    },
    {
      "cell_type": "markdown",
      "metadata": {
        "id": "kNH1S89oeKRn"
      },
      "source": [
        "First, we use `pivot_table()` on `tx_user_purchase` to COUNT how many transactions each customer made in each month. Notice that:\n",
        "\n",
        "- parameter `aggfunc=len` is used to return the count of transactions that the customer made in each month.\n",
        "- parameter `fill_value=0` to fill all the NaN with 0."
      ]
    },
    {
      "cell_type": "code",
      "execution_count": null,
      "metadata": {
        "colab": {
          "base_uri": "https://localhost:8080/",
          "height": 417
        },
        "id": "EzkekADcs29d",
        "outputId": "7980f2df-8ff3-449d-f31d-37cf31d2ca7f"
      },
      "outputs": [
        {
          "data": {
            "text/html": [
              "<div>\n",
              "<style scoped>\n",
              "    .dataframe tbody tr th:only-of-type {\n",
              "        vertical-align: middle;\n",
              "    }\n",
              "\n",
              "    .dataframe tbody tr th {\n",
              "        vertical-align: top;\n",
              "    }\n",
              "\n",
              "    .dataframe thead th {\n",
              "        text-align: right;\n",
              "    }\n",
              "</style>\n",
              "<table border=\"1\" class=\"dataframe\">\n",
              "  <thead>\n",
              "    <tr style=\"text-align: right;\">\n",
              "      <th>InvoiceYearMonth</th>\n",
              "      <th>2010-12</th>\n",
              "      <th>2011-01</th>\n",
              "      <th>2011-02</th>\n",
              "      <th>2011-03</th>\n",
              "      <th>2011-04</th>\n",
              "      <th>2011-05</th>\n",
              "      <th>2011-06</th>\n",
              "      <th>2011-07</th>\n",
              "      <th>2011-08</th>\n",
              "      <th>2011-09</th>\n",
              "      <th>2011-10</th>\n",
              "      <th>2011-11</th>\n",
              "    </tr>\n",
              "    <tr>\n",
              "      <th>CustomerID</th>\n",
              "      <th></th>\n",
              "      <th></th>\n",
              "      <th></th>\n",
              "      <th></th>\n",
              "      <th></th>\n",
              "      <th></th>\n",
              "      <th></th>\n",
              "      <th></th>\n",
              "      <th></th>\n",
              "      <th></th>\n",
              "      <th></th>\n",
              "      <th></th>\n",
              "    </tr>\n",
              "  </thead>\n",
              "  <tbody>\n",
              "    <tr>\n",
              "      <th>12346.0</th>\n",
              "      <td>0</td>\n",
              "      <td>1</td>\n",
              "      <td>0</td>\n",
              "      <td>0</td>\n",
              "      <td>0</td>\n",
              "      <td>0</td>\n",
              "      <td>0</td>\n",
              "      <td>0</td>\n",
              "      <td>0</td>\n",
              "      <td>0</td>\n",
              "      <td>0</td>\n",
              "      <td>0</td>\n",
              "    </tr>\n",
              "    <tr>\n",
              "      <th>12747.0</th>\n",
              "      <td>1</td>\n",
              "      <td>1</td>\n",
              "      <td>0</td>\n",
              "      <td>1</td>\n",
              "      <td>0</td>\n",
              "      <td>1</td>\n",
              "      <td>1</td>\n",
              "      <td>0</td>\n",
              "      <td>1</td>\n",
              "      <td>0</td>\n",
              "      <td>1</td>\n",
              "      <td>1</td>\n",
              "    </tr>\n",
              "    <tr>\n",
              "      <th>12748.0</th>\n",
              "      <td>1</td>\n",
              "      <td>1</td>\n",
              "      <td>1</td>\n",
              "      <td>1</td>\n",
              "      <td>1</td>\n",
              "      <td>1</td>\n",
              "      <td>1</td>\n",
              "      <td>1</td>\n",
              "      <td>1</td>\n",
              "      <td>1</td>\n",
              "      <td>1</td>\n",
              "      <td>1</td>\n",
              "    </tr>\n",
              "    <tr>\n",
              "      <th>12749.0</th>\n",
              "      <td>0</td>\n",
              "      <td>0</td>\n",
              "      <td>0</td>\n",
              "      <td>0</td>\n",
              "      <td>0</td>\n",
              "      <td>1</td>\n",
              "      <td>0</td>\n",
              "      <td>0</td>\n",
              "      <td>1</td>\n",
              "      <td>0</td>\n",
              "      <td>0</td>\n",
              "      <td>1</td>\n",
              "    </tr>\n",
              "    <tr>\n",
              "      <th>12820.0</th>\n",
              "      <td>0</td>\n",
              "      <td>1</td>\n",
              "      <td>0</td>\n",
              "      <td>0</td>\n",
              "      <td>0</td>\n",
              "      <td>0</td>\n",
              "      <td>0</td>\n",
              "      <td>0</td>\n",
              "      <td>0</td>\n",
              "      <td>1</td>\n",
              "      <td>1</td>\n",
              "      <td>0</td>\n",
              "    </tr>\n",
              "    <tr>\n",
              "      <th>...</th>\n",
              "      <td>...</td>\n",
              "      <td>...</td>\n",
              "      <td>...</td>\n",
              "      <td>...</td>\n",
              "      <td>...</td>\n",
              "      <td>...</td>\n",
              "      <td>...</td>\n",
              "      <td>...</td>\n",
              "      <td>...</td>\n",
              "      <td>...</td>\n",
              "      <td>...</td>\n",
              "      <td>...</td>\n",
              "    </tr>\n",
              "    <tr>\n",
              "      <th>18280.0</th>\n",
              "      <td>0</td>\n",
              "      <td>0</td>\n",
              "      <td>0</td>\n",
              "      <td>1</td>\n",
              "      <td>0</td>\n",
              "      <td>0</td>\n",
              "      <td>0</td>\n",
              "      <td>0</td>\n",
              "      <td>0</td>\n",
              "      <td>0</td>\n",
              "      <td>0</td>\n",
              "      <td>0</td>\n",
              "    </tr>\n",
              "    <tr>\n",
              "      <th>18281.0</th>\n",
              "      <td>0</td>\n",
              "      <td>0</td>\n",
              "      <td>0</td>\n",
              "      <td>0</td>\n",
              "      <td>0</td>\n",
              "      <td>0</td>\n",
              "      <td>1</td>\n",
              "      <td>0</td>\n",
              "      <td>0</td>\n",
              "      <td>0</td>\n",
              "      <td>0</td>\n",
              "      <td>0</td>\n",
              "    </tr>\n",
              "    <tr>\n",
              "      <th>18282.0</th>\n",
              "      <td>0</td>\n",
              "      <td>0</td>\n",
              "      <td>0</td>\n",
              "      <td>0</td>\n",
              "      <td>0</td>\n",
              "      <td>0</td>\n",
              "      <td>0</td>\n",
              "      <td>0</td>\n",
              "      <td>1</td>\n",
              "      <td>0</td>\n",
              "      <td>0</td>\n",
              "      <td>0</td>\n",
              "    </tr>\n",
              "    <tr>\n",
              "      <th>18283.0</th>\n",
              "      <td>0</td>\n",
              "      <td>1</td>\n",
              "      <td>1</td>\n",
              "      <td>0</td>\n",
              "      <td>1</td>\n",
              "      <td>1</td>\n",
              "      <td>1</td>\n",
              "      <td>1</td>\n",
              "      <td>0</td>\n",
              "      <td>1</td>\n",
              "      <td>1</td>\n",
              "      <td>1</td>\n",
              "    </tr>\n",
              "    <tr>\n",
              "      <th>18287.0</th>\n",
              "      <td>0</td>\n",
              "      <td>0</td>\n",
              "      <td>0</td>\n",
              "      <td>0</td>\n",
              "      <td>0</td>\n",
              "      <td>1</td>\n",
              "      <td>0</td>\n",
              "      <td>0</td>\n",
              "      <td>0</td>\n",
              "      <td>0</td>\n",
              "      <td>1</td>\n",
              "      <td>0</td>\n",
              "    </tr>\n",
              "  </tbody>\n",
              "</table>\n",
              "<p>3916 rows × 12 columns</p>\n",
              "</div>"
            ],
            "text/plain": [
              "InvoiceYearMonth  2010-12  2011-01  2011-02  2011-03  2011-04  2011-05  \\\n",
              "CustomerID                                                               \n",
              "12346.0                 0        1        0        0        0        0   \n",
              "12747.0                 1        1        0        1        0        1   \n",
              "12748.0                 1        1        1        1        1        1   \n",
              "12749.0                 0        0        0        0        0        1   \n",
              "12820.0                 0        1        0        0        0        0   \n",
              "...                   ...      ...      ...      ...      ...      ...   \n",
              "18280.0                 0        0        0        1        0        0   \n",
              "18281.0                 0        0        0        0        0        0   \n",
              "18282.0                 0        0        0        0        0        0   \n",
              "18283.0                 0        1        1        0        1        1   \n",
              "18287.0                 0        0        0        0        0        1   \n",
              "\n",
              "InvoiceYearMonth  2011-06  2011-07  2011-08  2011-09  2011-10  2011-11  \n",
              "CustomerID                                                              \n",
              "12346.0                 0        0        0        0        0        0  \n",
              "12747.0                 1        0        1        0        1        1  \n",
              "12748.0                 1        1        1        1        1        1  \n",
              "12749.0                 0        0        1        0        0        1  \n",
              "12820.0                 0        0        0        1        1        0  \n",
              "...                   ...      ...      ...      ...      ...      ...  \n",
              "18280.0                 0        0        0        0        0        0  \n",
              "18281.0                 1        0        0        0        0        0  \n",
              "18282.0                 0        0        1        0        0        0  \n",
              "18283.0                 1        1        0        1        1        1  \n",
              "18287.0                 0        0        0        0        1        0  \n",
              "\n",
              "[3916 rows x 12 columns]"
            ]
          },
          "execution_count": 93,
          "metadata": {},
          "output_type": "execute_result"
        }
      ],
      "source": [
        "tx_retention = pd.pivot_table(data= tx_user_purchase,\n",
        "                              index=\"CustomerID\",\n",
        "                              values= \"Revenue\",\n",
        "                              columns=\"InvoiceYearMonth\",\n",
        "                              aggfunc =len,\n",
        "                              fill_value=0)\n",
        "tx_retention"
      ]
    },
    {
      "cell_type": "markdown",
      "metadata": {
        "id": "qvX4POd8WbfP"
      },
      "source": [
        "`<dataframe>.T` will tranpose your table. Notice that the columns are now rows and rows are columns."
      ]
    },
    {
      "cell_type": "code",
      "execution_count": null,
      "metadata": {
        "colab": {
          "base_uri": "https://localhost:8080/",
          "height": 465
        },
        "id": "7eeImzxztUXh",
        "outputId": "3aec4da1-04ba-4777-f551-fa2866c5fc4f"
      },
      "outputs": [
        {
          "data": {
            "text/html": [
              "<div>\n",
              "<style scoped>\n",
              "    .dataframe tbody tr th:only-of-type {\n",
              "        vertical-align: middle;\n",
              "    }\n",
              "\n",
              "    .dataframe tbody tr th {\n",
              "        vertical-align: top;\n",
              "    }\n",
              "\n",
              "    .dataframe thead th {\n",
              "        text-align: right;\n",
              "    }\n",
              "</style>\n",
              "<table border=\"1\" class=\"dataframe\">\n",
              "  <thead>\n",
              "    <tr style=\"text-align: right;\">\n",
              "      <th>InvoiceYearMonth</th>\n",
              "      <th>2010-12</th>\n",
              "      <th>2011-01</th>\n",
              "      <th>2011-02</th>\n",
              "      <th>2011-03</th>\n",
              "      <th>2011-04</th>\n",
              "      <th>2011-05</th>\n",
              "      <th>2011-06</th>\n",
              "      <th>2011-07</th>\n",
              "      <th>2011-08</th>\n",
              "      <th>2011-09</th>\n",
              "      <th>2011-10</th>\n",
              "      <th>2011-11</th>\n",
              "    </tr>\n",
              "    <tr>\n",
              "      <th>CustomerID</th>\n",
              "      <th></th>\n",
              "      <th></th>\n",
              "      <th></th>\n",
              "      <th></th>\n",
              "      <th></th>\n",
              "      <th></th>\n",
              "      <th></th>\n",
              "      <th></th>\n",
              "      <th></th>\n",
              "      <th></th>\n",
              "      <th></th>\n",
              "      <th></th>\n",
              "    </tr>\n",
              "  </thead>\n",
              "  <tbody>\n",
              "    <tr>\n",
              "      <th>12346.0</th>\n",
              "      <td>0</td>\n",
              "      <td>1</td>\n",
              "      <td>0</td>\n",
              "      <td>0</td>\n",
              "      <td>0</td>\n",
              "      <td>0</td>\n",
              "      <td>0</td>\n",
              "      <td>0</td>\n",
              "      <td>0</td>\n",
              "      <td>0</td>\n",
              "      <td>0</td>\n",
              "      <td>0</td>\n",
              "    </tr>\n",
              "    <tr>\n",
              "      <th>12747.0</th>\n",
              "      <td>1</td>\n",
              "      <td>1</td>\n",
              "      <td>0</td>\n",
              "      <td>1</td>\n",
              "      <td>0</td>\n",
              "      <td>1</td>\n",
              "      <td>1</td>\n",
              "      <td>0</td>\n",
              "      <td>1</td>\n",
              "      <td>0</td>\n",
              "      <td>1</td>\n",
              "      <td>1</td>\n",
              "    </tr>\n",
              "    <tr>\n",
              "      <th>12748.0</th>\n",
              "      <td>1</td>\n",
              "      <td>1</td>\n",
              "      <td>1</td>\n",
              "      <td>1</td>\n",
              "      <td>1</td>\n",
              "      <td>1</td>\n",
              "      <td>1</td>\n",
              "      <td>1</td>\n",
              "      <td>1</td>\n",
              "      <td>1</td>\n",
              "      <td>1</td>\n",
              "      <td>1</td>\n",
              "    </tr>\n",
              "    <tr>\n",
              "      <th>12749.0</th>\n",
              "      <td>0</td>\n",
              "      <td>0</td>\n",
              "      <td>0</td>\n",
              "      <td>0</td>\n",
              "      <td>0</td>\n",
              "      <td>1</td>\n",
              "      <td>0</td>\n",
              "      <td>0</td>\n",
              "      <td>1</td>\n",
              "      <td>0</td>\n",
              "      <td>0</td>\n",
              "      <td>1</td>\n",
              "    </tr>\n",
              "    <tr>\n",
              "      <th>12820.0</th>\n",
              "      <td>0</td>\n",
              "      <td>1</td>\n",
              "      <td>0</td>\n",
              "      <td>0</td>\n",
              "      <td>0</td>\n",
              "      <td>0</td>\n",
              "      <td>0</td>\n",
              "      <td>0</td>\n",
              "      <td>0</td>\n",
              "      <td>1</td>\n",
              "      <td>1</td>\n",
              "      <td>0</td>\n",
              "    </tr>\n",
              "    <tr>\n",
              "      <th>...</th>\n",
              "      <td>...</td>\n",
              "      <td>...</td>\n",
              "      <td>...</td>\n",
              "      <td>...</td>\n",
              "      <td>...</td>\n",
              "      <td>...</td>\n",
              "      <td>...</td>\n",
              "      <td>...</td>\n",
              "      <td>...</td>\n",
              "      <td>...</td>\n",
              "      <td>...</td>\n",
              "      <td>...</td>\n",
              "    </tr>\n",
              "    <tr>\n",
              "      <th>18280.0</th>\n",
              "      <td>0</td>\n",
              "      <td>0</td>\n",
              "      <td>0</td>\n",
              "      <td>1</td>\n",
              "      <td>0</td>\n",
              "      <td>0</td>\n",
              "      <td>0</td>\n",
              "      <td>0</td>\n",
              "      <td>0</td>\n",
              "      <td>0</td>\n",
              "      <td>0</td>\n",
              "      <td>0</td>\n",
              "    </tr>\n",
              "    <tr>\n",
              "      <th>18281.0</th>\n",
              "      <td>0</td>\n",
              "      <td>0</td>\n",
              "      <td>0</td>\n",
              "      <td>0</td>\n",
              "      <td>0</td>\n",
              "      <td>0</td>\n",
              "      <td>1</td>\n",
              "      <td>0</td>\n",
              "      <td>0</td>\n",
              "      <td>0</td>\n",
              "      <td>0</td>\n",
              "      <td>0</td>\n",
              "    </tr>\n",
              "    <tr>\n",
              "      <th>18282.0</th>\n",
              "      <td>0</td>\n",
              "      <td>0</td>\n",
              "      <td>0</td>\n",
              "      <td>0</td>\n",
              "      <td>0</td>\n",
              "      <td>0</td>\n",
              "      <td>0</td>\n",
              "      <td>0</td>\n",
              "      <td>1</td>\n",
              "      <td>0</td>\n",
              "      <td>0</td>\n",
              "      <td>0</td>\n",
              "    </tr>\n",
              "    <tr>\n",
              "      <th>18283.0</th>\n",
              "      <td>0</td>\n",
              "      <td>1</td>\n",
              "      <td>1</td>\n",
              "      <td>0</td>\n",
              "      <td>1</td>\n",
              "      <td>1</td>\n",
              "      <td>1</td>\n",
              "      <td>1</td>\n",
              "      <td>0</td>\n",
              "      <td>1</td>\n",
              "      <td>1</td>\n",
              "      <td>1</td>\n",
              "    </tr>\n",
              "    <tr>\n",
              "      <th>18287.0</th>\n",
              "      <td>0</td>\n",
              "      <td>0</td>\n",
              "      <td>0</td>\n",
              "      <td>0</td>\n",
              "      <td>0</td>\n",
              "      <td>1</td>\n",
              "      <td>0</td>\n",
              "      <td>0</td>\n",
              "      <td>0</td>\n",
              "      <td>0</td>\n",
              "      <td>1</td>\n",
              "      <td>0</td>\n",
              "    </tr>\n",
              "  </tbody>\n",
              "</table>\n",
              "<p>3916 rows × 12 columns</p>\n",
              "</div>"
            ],
            "text/plain": [
              "InvoiceYearMonth  2010-12  2011-01  2011-02  2011-03  2011-04  2011-05  \\\n",
              "CustomerID                                                               \n",
              "12346.0                 0        1        0        0        0        0   \n",
              "12747.0                 1        1        0        1        0        1   \n",
              "12748.0                 1        1        1        1        1        1   \n",
              "12749.0                 0        0        0        0        0        1   \n",
              "12820.0                 0        1        0        0        0        0   \n",
              "...                   ...      ...      ...      ...      ...      ...   \n",
              "18280.0                 0        0        0        1        0        0   \n",
              "18281.0                 0        0        0        0        0        0   \n",
              "18282.0                 0        0        0        0        0        0   \n",
              "18283.0                 0        1        1        0        1        1   \n",
              "18287.0                 0        0        0        0        0        1   \n",
              "\n",
              "InvoiceYearMonth  2011-06  2011-07  2011-08  2011-09  2011-10  2011-11  \n",
              "CustomerID                                                              \n",
              "12346.0                 0        0        0        0        0        0  \n",
              "12747.0                 1        0        1        0        1        1  \n",
              "12748.0                 1        1        1        1        1        1  \n",
              "12749.0                 0        0        1        0        0        1  \n",
              "12820.0                 0        0        0        1        1        0  \n",
              "...                   ...      ...      ...      ...      ...      ...  \n",
              "18280.0                 0        0        0        0        0        0  \n",
              "18281.0                 1        0        0        0        0        0  \n",
              "18282.0                 0        0        1        0        0        0  \n",
              "18283.0                 1        1        0        1        1        1  \n",
              "18287.0                 0        0        0        0        1        0  \n",
              "\n",
              "[3916 rows x 12 columns]"
            ]
          },
          "execution_count": 99,
          "metadata": {},
          "output_type": "execute_result"
        }
      ],
      "source": [
        "tx_retention = tx_retention.T\n",
        "tx_retention"
      ]
    },
    {
      "cell_type": "markdown",
      "metadata": {
        "id": "LtGQNLOG2T-M"
      },
      "source": [
        "The table shows how many transaction one customer made in a specific month. There is no customer that made more than 1 transaction per month. In an easy word, customer who 'retains' (means that the customer comes back to buy again this month) will have 1 in the current month and also 1 in the previous month.\n",
        "\n",
        "So we can spot them, by taking the data of two months and sum them. If the sum >= 2, that customer returns."
      ]
    },
    {
      "cell_type": "code",
      "execution_count": null,
      "metadata": {
        "colab": {
          "base_uri": "https://localhost:8080/"
        },
        "id": "EwIKQ2K6WwP3",
        "outputId": "15c78494-02d7-415a-9583-ec3ef0bb6b36"
      },
      "outputs": [
        {
          "data": {
            "text/plain": [
              "1"
            ]
          },
          "execution_count": 100,
          "metadata": {},
          "output_type": "execute_result"
        }
      ],
      "source": [
        "# For example, calculate the number of retained customers of 2011-01\n",
        "data_2011_01 = tx_retention.iloc[1] # This month\n",
        "data_2010_12 = tx_retention.iloc[0] # Last month\n",
        "\n",
        "# Total number of customers of this month\n",
        "total_2011_01 = tx_retention.iloc[1].sum()\n",
        "\n",
        "# Total number of RETAINED customers of this month\n",
        "retention_2011_01 = ((data_2011_01 + data_2010_12) == 2).sum()\n",
        "retention_2011_01"
      ]
    },
    {
      "cell_type": "code",
      "execution_count": null,
      "metadata": {
        "cellView": "form",
        "id": "y2l-9AiIWwP6"
      },
      "outputs": [
        {
          "data": {
            "text/html": [
              "<div>\n",
              "<style scoped>\n",
              "    .dataframe tbody tr th:only-of-type {\n",
              "        vertical-align: middle;\n",
              "    }\n",
              "\n",
              "    .dataframe tbody tr th {\n",
              "        vertical-align: top;\n",
              "    }\n",
              "\n",
              "    .dataframe thead th {\n",
              "        text-align: right;\n",
              "    }\n",
              "</style>\n",
              "<table border=\"1\" class=\"dataframe\">\n",
              "  <thead>\n",
              "    <tr style=\"text-align: right;\">\n",
              "      <th></th>\n",
              "      <th>InvoiceYearMonth</th>\n",
              "      <th>RetainedUserCount</th>\n",
              "      <th>TotalCount</th>\n",
              "    </tr>\n",
              "  </thead>\n",
              "  <tbody>\n",
              "    <tr>\n",
              "      <th>0</th>\n",
              "      <td>12747.0</td>\n",
              "      <td>1</td>\n",
              "      <td>8</td>\n",
              "    </tr>\n",
              "    <tr>\n",
              "      <th>1</th>\n",
              "      <td>12748.0</td>\n",
              "      <td>8</td>\n",
              "      <td>12</td>\n",
              "    </tr>\n",
              "    <tr>\n",
              "      <th>2</th>\n",
              "      <td>12749.0</td>\n",
              "      <td>3</td>\n",
              "      <td>3</td>\n",
              "    </tr>\n",
              "    <tr>\n",
              "      <th>3</th>\n",
              "      <td>12820.0</td>\n",
              "      <td>0</td>\n",
              "      <td>3</td>\n",
              "    </tr>\n",
              "    <tr>\n",
              "      <th>4</th>\n",
              "      <td>12821.0</td>\n",
              "      <td>0</td>\n",
              "      <td>1</td>\n",
              "    </tr>\n",
              "  </tbody>\n",
              "</table>\n",
              "</div>"
            ],
            "text/plain": [
              "   InvoiceYearMonth  RetainedUserCount  TotalCount\n",
              "0           12747.0                  1           8\n",
              "1           12748.0                  8          12\n",
              "2           12749.0                  3           3\n",
              "3           12820.0                  0           3\n",
              "4           12821.0                  0           1"
            ]
          },
          "execution_count": 129,
          "metadata": {},
          "output_type": "execute_result"
        }
      ],
      "source": [
        "#@title Solution -- Try to work it your way first. Open this if you really stuck.\n",
        "\n",
        "months = tx_retention.index\n",
        "\n",
        "retention_array = []\n",
        "for i in range(1, 12):\n",
        "    retention_data = {}\n",
        "    retention_data['InvoiceYearMonth'] = months[i]\n",
        "    retention_data['RetainedUserCount'] = ((tx_retention.iloc[i] + tx_retention.iloc[i-1]) == 2).sum()\n",
        "    retention_data['TotalCount'] = tx_retention.iloc[i].sum()\n",
        "    retention_array.append(retention_data)\n",
        "\n",
        "tx_retention_count = pd.DataFrame(retention_array)\n",
        "tx_retention_count.head()"
      ]
    },
    {
      "cell_type": "code",
      "execution_count": null,
      "metadata": {
        "colab": {
          "base_uri": "https://localhost:8080/",
          "height": 360
        },
        "id": "FodP08ZHK5bU",
        "outputId": "6580b382-91a9-4468-edbf-189757ec7e86"
      },
      "outputs": [
        {
          "data": {
            "text/html": [
              "<div>\n",
              "<style scoped>\n",
              "    .dataframe tbody tr th:only-of-type {\n",
              "        vertical-align: middle;\n",
              "    }\n",
              "\n",
              "    .dataframe tbody tr th {\n",
              "        vertical-align: top;\n",
              "    }\n",
              "\n",
              "    .dataframe thead th {\n",
              "        text-align: right;\n",
              "    }\n",
              "</style>\n",
              "<table border=\"1\" class=\"dataframe\">\n",
              "  <thead>\n",
              "    <tr style=\"text-align: right;\">\n",
              "      <th></th>\n",
              "      <th>InvoiceYearMonth</th>\n",
              "      <th>RetainedUserCount</th>\n",
              "      <th>TotalCount</th>\n",
              "      <th>RetentionRate</th>\n",
              "    </tr>\n",
              "  </thead>\n",
              "  <tbody>\n",
              "    <tr>\n",
              "      <th>0</th>\n",
              "      <td>12747.0</td>\n",
              "      <td>1</td>\n",
              "      <td>8</td>\n",
              "      <td>0.125000</td>\n",
              "    </tr>\n",
              "    <tr>\n",
              "      <th>1</th>\n",
              "      <td>12748.0</td>\n",
              "      <td>8</td>\n",
              "      <td>12</td>\n",
              "      <td>0.666667</td>\n",
              "    </tr>\n",
              "    <tr>\n",
              "      <th>2</th>\n",
              "      <td>12749.0</td>\n",
              "      <td>3</td>\n",
              "      <td>3</td>\n",
              "      <td>1.000000</td>\n",
              "    </tr>\n",
              "    <tr>\n",
              "      <th>3</th>\n",
              "      <td>12820.0</td>\n",
              "      <td>0</td>\n",
              "      <td>3</td>\n",
              "      <td>0.000000</td>\n",
              "    </tr>\n",
              "    <tr>\n",
              "      <th>4</th>\n",
              "      <td>12821.0</td>\n",
              "      <td>0</td>\n",
              "      <td>1</td>\n",
              "      <td>0.000000</td>\n",
              "    </tr>\n",
              "    <tr>\n",
              "      <th>5</th>\n",
              "      <td>12822.0</td>\n",
              "      <td>0</td>\n",
              "      <td>1</td>\n",
              "      <td>0.000000</td>\n",
              "    </tr>\n",
              "    <tr>\n",
              "      <th>6</th>\n",
              "      <td>12823.0</td>\n",
              "      <td>1</td>\n",
              "      <td>4</td>\n",
              "      <td>0.250000</td>\n",
              "    </tr>\n",
              "    <tr>\n",
              "      <th>7</th>\n",
              "      <td>12824.0</td>\n",
              "      <td>0</td>\n",
              "      <td>1</td>\n",
              "      <td>0.000000</td>\n",
              "    </tr>\n",
              "    <tr>\n",
              "      <th>8</th>\n",
              "      <td>12826.0</td>\n",
              "      <td>0</td>\n",
              "      <td>5</td>\n",
              "      <td>0.000000</td>\n",
              "    </tr>\n",
              "    <tr>\n",
              "      <th>9</th>\n",
              "      <td>12827.0</td>\n",
              "      <td>1</td>\n",
              "      <td>2</td>\n",
              "      <td>0.500000</td>\n",
              "    </tr>\n",
              "    <tr>\n",
              "      <th>10</th>\n",
              "      <td>12828.0</td>\n",
              "      <td>1</td>\n",
              "      <td>3</td>\n",
              "      <td>0.333333</td>\n",
              "    </tr>\n",
              "  </tbody>\n",
              "</table>\n",
              "</div>"
            ],
            "text/plain": [
              "    InvoiceYearMonth  RetainedUserCount  TotalCount  RetentionRate\n",
              "0            12747.0                  1           8       0.125000\n",
              "1            12748.0                  8          12       0.666667\n",
              "2            12749.0                  3           3       1.000000\n",
              "3            12820.0                  0           3       0.000000\n",
              "4            12821.0                  0           1       0.000000\n",
              "5            12822.0                  0           1       0.000000\n",
              "6            12823.0                  1           4       0.250000\n",
              "7            12824.0                  0           1       0.000000\n",
              "8            12826.0                  0           5       0.000000\n",
              "9            12827.0                  1           2       0.500000\n",
              "10           12828.0                  1           3       0.333333"
            ]
          },
          "execution_count": 130,
          "metadata": {},
          "output_type": "execute_result"
        }
      ],
      "source": [
        "# Compute the retention rate column\n",
        "tx_retention_count['RetentionRate'] = tx_retention_count['RetainedUserCount'] / tx_retention_count['TotalCount']\n",
        "tx_retention_count"
      ]
    },
    {
      "cell_type": "code",
      "execution_count": null,
      "metadata": {
        "colab": {
          "base_uri": "https://localhost:8080/",
          "height": 334
        },
        "id": "r4EvgYWcqXL6",
        "outputId": "35e644b2-735a-48bf-a08a-c8900a487058"
      },
      "outputs": [
        {
          "data": {
            "image/png": "[encoded data removed]",
            "text/plain": [
              "<Figure size 1000x500 with 1 Axes>"
            ]
          },
          "metadata": {},
          "output_type": "display_data"
        }
      ],
      "source": [
        "# Plot the Retention Rate by Time\n",
        "tx_retention_count['InvoiceYearMonth'] = tx_retention_count['InvoiceYearMonth'].astype(str)\n",
        "\n",
        "plt.figure(figsize=(10,5))\n",
        "sns.lineplot(data=tx_retention_count, x='InvoiceYearMonth', y='RetentionRate')\n",
        "plt.show()"
      ]
    },
    {
      "cell_type": "markdown",
      "metadata": {
        "id": "WQhQjg0S0nX9"
      },
      "source": [
        "#4. Export to Google Sheet Report and Design a Tableau Dashboard"
      ]
    },
    {
      "cell_type": "code",
      "execution_count": null,
      "metadata": {
        "id": "q_BGudJeds5Z"
      },
      "outputs": [],
      "source": [
        "# Mount to Google Sheets\n",
        "from google.colab import auth\n",
        "auth.authenticate_user()\n",
        "\n",
        "# Import neccessary libraries -- Đi học syntax\n",
        "import gspread\n",
        "from gspread_dataframe import set_with_dataframe\n",
        "from google.auth import default\n",
        "creds, _ = default()\n",
        "\n",
        "# Authorize Google Sheets API\n",
        "gc = gspread.authorize(creds)"
      ]
    },
    {
      "cell_type": "markdown",
      "metadata": {
        "id": "nfNBwY2n1MQS"
      },
      "source": [
        "Create new spreadsheet, this step is only ran in the first time exporting data to gsheet.  "
      ]
    },
    {
      "cell_type": "code",
      "execution_count": null,
      "metadata": {
        "id": "n0YqytNN7bMF"
      },
      "outputs": [],
      "source": [
        "# Create a new Google Spreadsheets\n",
        "sh = gc.create('example') # Thay bằng tên spreadsheet của các bạn"
      ]
    },
    {
      "cell_type": "markdown",
      "metadata": {
        "id": "avyADdLq1x7i"
      },
      "source": [
        "Tables to export:\n",
        "- `tx_revenue` to sheet0: Overall Revenue Report\n",
        "- `tx_country` to sheet1: Revenue by Country\n",
        "- `tx_monthly_active` to sheet2: Active Users in UK\n",
        "- `tx_user_ratio` to sheet3: Ratio of Number of New Customers / Existing Customers\n",
        "- `tx_user_type_revenue` to sheet4: Ratio of Revenue by New Customers / Existing Customers\n",
        "- `tx_retention_count` to sheet5: Retention Rate by Month"
      ]
    },
    {
      "cell_type": "code",
      "execution_count": null,
      "metadata": {
        "id": "r448nsjRZmqP"
      },
      "outputs": [],
      "source": [
        "tx_revenue.head()"
      ]
    },
    {
      "cell_type": "code",
      "execution_count": null,
      "metadata": {
        "id": "fss4AoPV0u9O"
      },
      "outputs": [],
      "source": [
        "tx_country = tx_data.groupby('Country')['Revenue'].sum().reset_index()\n",
        "tx_country"
      ]
    },
    {
      "cell_type": "code",
      "execution_count": null,
      "metadata": {
        "id": "NZWBI1lw0wKU"
      },
      "outputs": [],
      "source": [
        "# tx_revenue\n",
        "# tx_monthly_active\n",
        "# tx_user_ratio\n",
        "# tx_user_type_revenue\n",
        "# tx_retention_count"
      ]
    },
    {
      "cell_type": "code",
      "execution_count": null,
      "metadata": {
        "id": "6xGnoYsGGcVl"
      },
      "outputs": [],
      "source": [
        "def export_data_to_new_sheet(gsheet_key, worksheet_name, data):\n",
        "    \"\"\"gsheet_key (str): ID of Google Sheet File. (Key is the part behind /d/ and before /edit\n",
        "                   For example: https://docs.google.com/spreadsheets/d/1WISuNUrWc-7BPO2s-pD3P3qqqgiLh0wRpvTNNtN21gA/edit?usp=sharing\n",
        "                   Key is 1WISuNUrWc-7BPO2s-pD3P3qqqgiLh0wRpvTNNtN21gA\n",
        "       worksheet_id (int): 0, 1, 2, ...\n",
        "       data (DataFrame): data to write\n",
        "    \"\"\"\n",
        "    sh = gc.open_by_key(gsheet_key)\n",
        "\n",
        "    # To create a new worksheet with 1000 rows and 26 columns\n",
        "    worksheet = sh.add_worksheet(worksheet_name, 1000, 26)\n",
        "\n",
        "    # For writing to an existing worksheet\n",
        "    # worksheet = sh.get_worksheet(0) # --> to get the first worksheet\n",
        "\n",
        "    set_with_dataframe(worksheet, data)"
      ]
    },
    {
      "cell_type": "code",
      "execution_count": null,
      "metadata": {
        "id": "LHAgFrzj5PH0"
      },
      "outputs": [],
      "source": [
        "# Notice! Replace the key by your google sheet key\n",
        "\n",
        "export_data_to_new_sheet('17xXULPS5CdnqGHWXRvWXhtXcl4a4zPeqJzJyem9eOs0', 'revenue', tx_revenue)\n",
        "export_data_to_new_sheet('17xXULPS5CdnqGHWXRvWXhtXcl4a4zPeqJzJyem9eOs0', 'revenueByCountry', tx_country)\n",
        "export_data_to_new_sheet('17xXULPS5CdnqGHWXRvWXhtXcl4a4zPeqJzJyem9eOs0', 'activeUsers', tx_monthly_active)\n",
        "export_data_to_new_sheet('17xXULPS5CdnqGHWXRvWXhtXcl4a4zPeqJzJyem9eOs0', 'newUsersRate', tx_user_ratio)\n",
        "export_data_to_new_sheet('17xXULPS5CdnqGHWXRvWXhtXcl4a4zPeqJzJyem9eOs0', 'revenueByUsers', tx_user_type_revenue)\n",
        "export_data_to_new_sheet('17xXULPS5CdnqGHWXRvWXhtXcl4a4zPeqJzJyem9eOs0', 'retention', tx_retention)"
      ]
    },
    {
      "cell_type": "markdown",
      "metadata": {
        "id": "7LA6-vv6YsBH"
      },
      "source": [
        "Dashboard at: https://public.tableau.com/app/profile/nguyen.thuc/viz/UkRetailSample_17008067508680/Dashboard1?publish=yes"
      ]
    }
  ],
  "metadata": {
    "colab": {
      "collapsed_sections": [
        "P6bd8EvKJiya"
      ],
      "provenance": [],
      "toc_visible": true
    },
    "kernelspec": {
      "display_name": "Python 3",
      "language": "python",
      "name": "python3"
    },
    "language_info": {
      "codemirror_mode": {
        "name": "ipython",
        "version": 3
      },
      "file_extension": ".py",
      "mimetype": "text/x-python",
      "name": "python",
      "nbconvert_exporter": "python",
      "pygments_lexer": "ipython3",
      "version": "3.12.0"
    }
  },
  "nbformat": 4,
  "nbformat_minor": 0
}
